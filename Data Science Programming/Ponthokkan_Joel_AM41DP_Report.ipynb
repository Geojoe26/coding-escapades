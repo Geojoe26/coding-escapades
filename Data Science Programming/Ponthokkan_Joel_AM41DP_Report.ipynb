{
 "cells": [
  {
   "cell_type": "markdown",
   "metadata": {},
   "source": [
    "<h1><center>AM41DP Report</center></h1>\n",
    "\n",
    "<h2 align=\"left\">Name : Joel George Ponthokkan</h2> \n",
    "<h3 align=\"left\">Stu ID : 220291367</h3>\n",
    "<h4 align=\"left\">Date : 19th January 2023</h4>"
   ]
  },
  {
   "cell_type": "markdown",
   "metadata": {},
   "source": [
    "##### Please Note : Code has been commented inside the code snippets, however all the discussions for specific questions have been done after the relevant question has been performed"
   ]
  },
  {
   "cell_type": "markdown",
   "metadata": {},
   "source": [
    "# Q1(a) \n",
    "Read in the csv file to create a dataframe. Remove the columns named unique id, saon, paon, street, locality, district and county. Further, remove all the rows which have ’O’ in the property type column. In the new build column, convert all of the ’Y’s to 1 and all of the ’N’s to 0. In the estate type column, convert all of the ’F’s to 1 and all of the ’L’s to 0. In the transaction category column, convert all of the ’A’s to 1 and all of the ’B’s to 0. Remove all of the rows which don’t have a postcode. Now make a copy of the postcode column and name it ’PC’. ’PC’ represents a simplified numerical postcode. Now for each element in ’PC’ remove all the letters and spaces to yield a 2 or 3 digit number. (7 marks)"
   ]
  },
  {
   "cell_type": "code",
   "execution_count": 1,
   "metadata": {},
   "outputs": [
    {
     "name": "stdout",
     "output_type": "stream",
     "text": [
      "The dataframe contains 370974 rows &  14 columns\n"
     ]
    }
   ],
   "source": [
    "import numpy as np\n",
    "import pandas as pd\n",
    "import re\n",
    "\n",
    "#The File Prices.csv is placed in the same directory as that of the jupyter file to run\n",
    "prop_prices_data = pd.read_csv('Prices.csv')\n",
    "rows, cols = prop_prices_data.shape\n",
    "print('The dataframe contains {} rows &  {} columns'.format(rows, cols))"
   ]
  },
  {
   "cell_type": "code",
   "execution_count": 2,
   "metadata": {},
   "outputs": [
    {
     "name": "stdout",
     "output_type": "stream",
     "text": [
      "Dataframe column names : ['unique_id' 'price_paid' 'deed_date' 'postcode' 'property_type'\n",
      " 'new_build' 'estate_type' 'saon' 'paon' 'street' 'locality' 'district'\n",
      " 'county' 'transaction_category']\n",
      "Dataframe column names after removal: ['price_paid' 'deed_date' 'postcode' 'property_type' 'new_build'\n",
      " 'estate_type' 'transaction_category']\n",
      "The dataframe contains 370974 rows &  7 columns\n"
     ]
    }
   ],
   "source": [
    "#Printing column names from the dataframe before removal of columns\n",
    "print('Dataframe column names :',prop_prices_data.columns.values)\n",
    "\n",
    "#Removing columns unique id, saon, paon, street, locality, district and county from the dataframe.\n",
    "prop_prices_data.drop(columns=['unique_id','saon', 'paon', 'street', 'locality',\n",
    "'district', 'county'], inplace=True)\n",
    "print('Dataframe column names after removal:',prop_prices_data.columns.values)\n",
    "\n",
    "rows, cols = prop_prices_data.shape\n",
    "print('The dataframe contains {} rows &  {} columns'.format(rows, cols))"
   ]
  },
  {
   "cell_type": "code",
   "execution_count": 3,
   "metadata": {},
   "outputs": [
    {
     "name": "stdout",
     "output_type": "stream",
     "text": [
      "The dataframe contains 366826 rows &  7 columns\n"
     ]
    }
   ],
   "source": [
    "#To remove records from dataframe having 'property_type' value as 'O'\n",
    "prop_prices_data = prop_prices_data[prop_prices_data['property_type'].values != 'O']\n",
    "\n",
    "rows, cols = prop_prices_data.shape\n",
    "print('The dataframe contains {} rows &  {} columns'.format(rows, cols))"
   ]
  },
  {
   "cell_type": "code",
   "execution_count": 4,
   "metadata": {},
   "outputs": [
    {
     "name": "stdout",
     "output_type": "stream",
     "text": [
      "        price_paid   deed_date postcode property_type  new_build estate_type  \\\n",
      "0            54000  01/01/1995  B29 7NS             T          0           1   \n",
      "1            37000  01/01/1995  B31 5DF             S          0           1   \n",
      "2           165500  01/01/1995  B45 8LY             D          0           1   \n",
      "3            24000  02/01/1995  B29 5TW             T          0           1   \n",
      "4            33000  02/01/1995  B44 8SA             T          0           1   \n",
      "...            ...         ...      ...           ...        ...         ...   \n",
      "370966      110000  23/12/2019   B6 7BE             T          0           1   \n",
      "370968      140000  24/12/2019   B1 3EG             F          0           0   \n",
      "370969      125000  24/12/2019  B14 4FD             F          0           0   \n",
      "370971      158000  27/12/2019  B27 7BT             T          0           1   \n",
      "370972       60000  28/12/2019  B37 5EU             F          0           0   \n",
      "\n",
      "        transaction_category  \n",
      "0                          1  \n",
      "1                          1  \n",
      "2                          1  \n",
      "3                          1  \n",
      "4                          1  \n",
      "...                      ...  \n",
      "370966                     0  \n",
      "370968                     0  \n",
      "370969                     0  \n",
      "370971                     1  \n",
      "370972                     1  \n",
      "\n",
      "[366826 rows x 7 columns]\n"
     ]
    }
   ],
   "source": [
    "#Replacing values in columns 'new_build', 'estate_type' & 'transaction_category'\n",
    "prop_prices_data['new_build'] = prop_prices_data['new_build'].replace(['Y','N'],[1,0])\n",
    "prop_prices_data['estate_type'] = prop_prices_data['estate_type'].replace(['F','L'],[1,0])\n",
    "prop_prices_data['transaction_category'] = prop_prices_data['transaction_category'].replace(['A','B'],[1,0])\n",
    "\n",
    "print(prop_prices_data)"
   ]
  },
  {
   "cell_type": "code",
   "execution_count": 5,
   "metadata": {},
   "outputs": [
    {
     "name": "stdout",
     "output_type": "stream",
     "text": [
      "The dataframe contains 366681 rows &  7 columns\n"
     ]
    }
   ],
   "source": [
    "#Removing empty post codes from column 'postcode'\n",
    "prop_prices_data.dropna(axis=0, subset='postcode', inplace= True)\n",
    "rows, cols = prop_prices_data.shape\n",
    "print('The dataframe contains {} rows &  {} columns'.format(rows, cols))"
   ]
  },
  {
   "cell_type": "code",
   "execution_count": 6,
   "metadata": {},
   "outputs": [
    {
     "name": "stdout",
     "output_type": "stream",
     "text": [
      "The dataframe contains 366681 rows &  8 columns\n",
      "        price_paid   deed_date postcode property_type  new_build estate_type  \\\n",
      "0            54000  01/01/1995  B29 7NS             T          0           1   \n",
      "1            37000  01/01/1995  B31 5DF             S          0           1   \n",
      "2           165500  01/01/1995  B45 8LY             D          0           1   \n",
      "3            24000  02/01/1995  B29 5TW             T          0           1   \n",
      "4            33000  02/01/1995  B44 8SA             T          0           1   \n",
      "...            ...         ...      ...           ...        ...         ...   \n",
      "370966      110000  23/12/2019   B6 7BE             T          0           1   \n",
      "370968      140000  24/12/2019   B1 3EG             F          0           0   \n",
      "370969      125000  24/12/2019  B14 4FD             F          0           0   \n",
      "370971      158000  27/12/2019  B27 7BT             T          0           1   \n",
      "370972       60000  28/12/2019  B37 5EU             F          0           0   \n",
      "\n",
      "        transaction_category   PC  \n",
      "0                          1  297  \n",
      "1                          1  315  \n",
      "2                          1  458  \n",
      "3                          1  295  \n",
      "4                          1  448  \n",
      "...                      ...  ...  \n",
      "370966                     0   67  \n",
      "370968                     0   13  \n",
      "370969                     0  144  \n",
      "370971                     1  277  \n",
      "370972                     1  375  \n",
      "\n",
      "[366681 rows x 8 columns]\n"
     ]
    }
   ],
   "source": [
    "#Creating a new column 'PC' copying column 'postcode'\n",
    "prop_prices_data['PC'] = prop_prices_data['postcode']\n",
    "prop_prices_data['PC'] = prop_prices_data['PC'].str.replace(r'[A-Z]','', regex=True)\n",
    "prop_prices_data['PC'] = prop_prices_data['PC'].str.replace(r'[\\s]','', regex=True)\n",
    "prop_prices_data['PC'] = prop_prices_data['PC'].astype(int)\n",
    "\n",
    "rows, cols = prop_prices_data.shape\n",
    "print('The dataframe contains {} rows &  {} columns'.format(rows, cols))\n",
    "\n",
    "print(prop_prices_data)"
   ]
  },
  {
   "cell_type": "markdown",
   "metadata": {},
   "source": [
    "# Q1(b) \n",
    "Create a function to turn a date from the form day/month/year into a single number representing a number of days. Ensure your function starts with 1st January 1995 as Day 1 and ends with 31st December 2019 as Day 9131. In the data frame create a new column called ’days’ and using your function convert the date given in the deed date column into a number in the column called ’days’. (3 marks)"
   ]
  },
  {
   "cell_type": "code",
   "execution_count": 7,
   "metadata": {},
   "outputs": [],
   "source": [
    "#Importing the package datetime and creating a function to count the number of days\n",
    "from datetime import datetime\n",
    "def day_count_fn(deed_dt):\n",
    "    dt_frmt = '%d/%m/%Y'\n",
    "\n",
    "    #Created an empty data dictionary to fill in day counts, count var initiatlized to be used as a key.\n",
    "    day_val_arr = {}\n",
    "    count = 0\n",
    "    \n",
    "    #Looping through each day value in 'deed_date' column to calculate count\n",
    "    for day in deed_dt:\n",
    "        fn_deed_dt = datetime.strptime(day, dt_frmt)\n",
    "        st_deed_dt = datetime.strptime('01/01/1995', dt_frmt)\n",
    "        \n",
    "        day_cnt = fn_deed_dt - st_deed_dt\n",
    "     \n",
    "        day_val_arr[count] = day_cnt.days+1 #Storing the values\n",
    "        count=count+1 #Incrementing at each iteration\n",
    "        \n",
    "    return day_val_arr.values() #Returning only the values\n",
    "\n",
    "#Called the function to create a new column 'days' passing the values in 'deed_date' column\n",
    "prop_prices_data['days'] = day_count_fn(prop_prices_data['deed_date'])"
   ]
  },
  {
   "cell_type": "code",
   "execution_count": 8,
   "metadata": {},
   "outputs": [
    {
     "name": "stdout",
     "output_type": "stream",
     "text": [
      "The dataframe contains 366681 rows &  9 columns\n",
      "        price_paid   deed_date postcode property_type  new_build estate_type  \\\n",
      "0            54000  01/01/1995  B29 7NS             T          0           1   \n",
      "1            37000  01/01/1995  B31 5DF             S          0           1   \n",
      "2           165500  01/01/1995  B45 8LY             D          0           1   \n",
      "3            24000  02/01/1995  B29 5TW             T          0           1   \n",
      "4            33000  02/01/1995  B44 8SA             T          0           1   \n",
      "...            ...         ...      ...           ...        ...         ...   \n",
      "370966      110000  23/12/2019   B6 7BE             T          0           1   \n",
      "370968      140000  24/12/2019   B1 3EG             F          0           0   \n",
      "370969      125000  24/12/2019  B14 4FD             F          0           0   \n",
      "370971      158000  27/12/2019  B27 7BT             T          0           1   \n",
      "370972       60000  28/12/2019  B37 5EU             F          0           0   \n",
      "\n",
      "        transaction_category   PC  days  \n",
      "0                          1  297     1  \n",
      "1                          1  315     1  \n",
      "2                          1  458     1  \n",
      "3                          1  295     2  \n",
      "4                          1  448     2  \n",
      "...                      ...  ...   ...  \n",
      "370966                     0   67  9123  \n",
      "370968                     0   13  9124  \n",
      "370969                     0  144  9124  \n",
      "370971                     1  277  9127  \n",
      "370972                     1  375  9128  \n",
      "\n",
      "[366681 rows x 9 columns]\n"
     ]
    }
   ],
   "source": [
    "rows, cols = prop_prices_data.shape\n",
    "print('The dataframe contains {} rows &  {} columns'.format(rows, cols))\n",
    "\n",
    "print(prop_prices_data)"
   ]
  },
  {
   "cell_type": "markdown",
   "metadata": {},
   "source": [
    "# Q1(c)\n",
    "Create 4 bar charts to illustrate the number of sales for: property type, new_build, estate_type and transaction_category. Do not include 'Other' in property type. (5 marks)"
   ]
  },
  {
   "cell_type": "code",
   "execution_count": 9,
   "metadata": {},
   "outputs": [
    {
     "data": {
      "image/png": "[encoded data removed]",
      "text/plain": [
       "<Figure size 640x480 with 1 Axes>"
      ]
     },
     "metadata": {},
     "output_type": "display_data"
    }
   ],
   "source": [
    "#Property Type plot for sales of different types\n",
    "prop_type_unique_values_counts = prop_prices_data.property_type.value_counts()\n",
    "import matplotlib.pyplot as plt\n",
    "\n",
    "prop_type_unique_values_counts.plot(kind = 'bar',\n",
    "          y = 'property_type',\n",
    "          x = 'Index',\n",
    "          color ='red',\n",
    "          edgecolor ='black')\n",
    "\n",
    "plt.title('Property Type Vs Sales')\n",
    "plt.xlabel('Property Type')\n",
    "plt.ylabel('Sales')\n",
    "plt.grid(visible=True , color='red')\n",
    "plt.show()\n"
   ]
  },
  {
   "cell_type": "code",
   "execution_count": 10,
   "metadata": {},
   "outputs": [
    {
     "data": {
      "image/png": "[encoded data removed]",
      "text/plain": [
       "<Figure size 640x480 with 1 Axes>"
      ]
     },
     "metadata": {},
     "output_type": "display_data"
    }
   ],
   "source": [
    "#Plot of Sales Vs New_build\n",
    "new_build_unique_values_counts = prop_prices_data.new_build.value_counts()\n",
    "new_build_unique_values_counts.plot(kind = 'bar',\n",
    "          y = 'new_build',\n",
    "          x = 'Index',\n",
    "          color ='green',\n",
    "          edgecolor ='black')\n",
    "\n",
    "plt.title('New Build Vs Sales')\n",
    "plt.xlabel('New Build ----->')\n",
    "plt.ylabel('Sales ----->')\n",
    "plt.grid(visible=True , color='green')\n",
    "plt.show()"
   ]
  },
  {
   "cell_type": "code",
   "execution_count": 11,
   "metadata": {},
   "outputs": [
    {
     "data": {
      "image/png": "[encoded data removed]",
      "text/plain": [
       "<Figure size 640x480 with 1 Axes>"
      ]
     },
     "metadata": {},
     "output_type": "display_data"
    }
   ],
   "source": [
    "#Plot of Sales Vs Estate Type\n",
    "estate_type_unique_values_counts = prop_prices_data.estate_type.value_counts()\n",
    "estate_type_unique_values_counts.plot(kind = 'bar',\n",
    "          y = 'estate_type',\n",
    "          x = 'Index',\n",
    "          color ='magenta',\n",
    "          edgecolor ='black')\n",
    "\n",
    "plt.title('Estate Type Vs Sales')\n",
    "plt.xlabel('Estate Type ----->')\n",
    "plt.ylabel('Sales ----->')\n",
    "plt.grid(visible=True , color='magenta')\n",
    "plt.show()"
   ]
  },
  {
   "cell_type": "code",
   "execution_count": 12,
   "metadata": {},
   "outputs": [
    {
     "data": {
      "image/png": "[encoded data removed]",
      "text/plain": [
       "<Figure size 640x480 with 1 Axes>"
      ]
     },
     "metadata": {},
     "output_type": "display_data"
    }
   ],
   "source": [
    "#Plot of Sales Vs transaction_type\n",
    "trnx_type_unique_values_counts = prop_prices_data.transaction_category.value_counts()\n",
    "trnx_type_unique_values_counts.plot(kind = 'bar',\n",
    "          y = 'transaction_category',\n",
    "          x = 'Index',\n",
    "          color ='orange',\n",
    "          edgecolor ='black')\n",
    "\n",
    "plt.title('Transaction Category Vs Sales')\n",
    "plt.xlabel('Transaction Category ----->')\n",
    "plt.ylabel('Sales ----->')\n",
    "plt.grid(visible=True , color='orange')\n",
    "plt.show()"
   ]
  },
  {
   "cell_type": "markdown",
   "metadata": {},
   "source": [
    "# Q1(d) \n",
    "Create a data frame only containing data on detached houses. Let n be the number of days starting at n=1 for 1st January 1995 \n",
    "and ending at n=9131 for 31st December 2019. Consider the number of sales of detached houses over each 365 day period. \n",
    "(Represent each data point for the yearly sales using day 183 as the midpoint of the first 365 day period. Notice no \n",
    "detached houses were sold after day 9124 in this data set so you can ignore the last few days). Examine how the number of \n",
    "sales of detached houses in Birmingham have changed over time by creating a scatter plot to show the relationship between the \n",
    "number house sales and n. Include the straight line of best fit. How well does your line fit the data? (5 marks)"
   ]
  },
  {
   "cell_type": "code",
   "execution_count": 13,
   "metadata": {},
   "outputs": [
    {
     "name": "stdout",
     "output_type": "stream",
     "text": [
      "The dataframe contains 30255 rows &  9 columns\n"
     ]
    }
   ],
   "source": [
    "#Dataframe should only have records with detached house properties i.e prop_prices_data['property_type'] = D\n",
    "prop_prices_data = prop_prices_data[prop_prices_data['property_type'].values == 'D']\n",
    "\n",
    "#Printing the shape of the dataframe after operations\n",
    "rows, cols = prop_prices_data.shape\n",
    "print('The dataframe contains {} rows &  {} columns'.format(rows, cols))"
   ]
  },
  {
   "cell_type": "code",
   "execution_count": 14,
   "metadata": {},
   "outputs": [
    {
     "data": {
      "image/png": "[encoded data removed]",
      "text/plain": [
       "<Figure size 640x480 with 1 Axes>"
      ]
     },
     "metadata": {},
     "output_type": "display_data"
    }
   ],
   "source": [
    "#Grouping records to get a count for batches of 365 days, \n",
    "# created a new dataframe 'prop_prices_data_sales' for ease of plotting them\n",
    "prop_prices_data_sales = prop_prices_data.groupby(pd.cut(prop_prices_data['days'], np.arange(0,26*365,365))).count()\n",
    "\n",
    "#Adding column 'days in a yr' to represent each row as a year of 365 days taking Day 183 as midpoint\n",
    "prop_prices_data_sales['days_in_yr'] = ((np.arange(len(prop_prices_data_sales)))*365)+183\n",
    "\n",
    "#evaluating the line of best fit using NumPy polyfit method and added a column to populate respective values\n",
    "m,c = np.polyfit(prop_prices_data_sales['days_in_yr'], prop_prices_data_sales['property_type'], 1)\n",
    "line = m*prop_prices_data_sales['days_in_yr']+c\n",
    "prop_prices_data_sales['line_fitting'] = line\n",
    "\n",
    "#Plotting the scatter graph for sales vs days\n",
    "ax = prop_prices_data_sales.plot(kind = 'scatter',\n",
    "          y = 'property_type',\n",
    "          x = 'days_in_yr',\n",
    "          color ='black',\n",
    "          label = 'values')\n",
    "prop_prices_data_sales.set_index('days_in_yr', inplace=True)\n",
    "prop_prices_data_sales.line_fitting.plot(ax=ax, color ='green')\n",
    "plt.gca()\n",
    "plt.title('Detached House Sales Vs Days')\n",
    "plt.ylabel('Detached House Sales ----->')\n",
    "plt.xlabel('Days ----->')\n",
    "plt.grid()\n",
    "plt.show()"
   ]
  },
  {
   "cell_type": "markdown",
   "metadata": {},
   "source": [
    "##### As you can see in the code, the line of best fit was calculated using the formula y = mx+c where m and c were calculated using the NumPy polyfit function which had inputs of days_in_yr and property_type from the sales dataframe. \n",
    "##### The plot shows an irregular scatter of points when plotted for Sales of the detached property type vs Days. However, the line of best fit plot identifies a trend of decline for the sales over the increasing days. \n",
    "##### The line of best fit defines a subtle declining trend in sales of detached proerties over the days and given the scatter of the sales vs days it doesn't fit the plot but rather just gives us an indication of a declining trend of sales between days from 1995 to end of 2019."
   ]
  },
  {
   "cell_type": "markdown",
   "metadata": {},
   "source": [
    "# Q1(e) \n",
    "Determine the mean price for a detached house in each 365 day period. Use the mean house price over each 365 day period to represent the average price of the house on day 183 of each 365 day period. To examine how the prices of detached houses in Birmingham have changed over time, create a scatter plot to show the relationship between the mean house price and n. State and include the straight line of best fit. How well does your line fit the data? Using the line of best fit, normalise all of the price_paid data in your detached houses data frame and store these values in a column named 'normalised_price'. (4 marks) "
   ]
  },
  {
   "cell_type": "code",
   "execution_count": 15,
   "metadata": {},
   "outputs": [
    {
     "data": {
      "image/png": "[encoded data removed]",
      "text/plain": [
       "<Figure size 640x480 with 1 Axes>"
      ]
     },
     "metadata": {},
     "output_type": "display_data"
    }
   ],
   "source": [
    "#Grouping records to get mean for batches of 365 days\n",
    "prop_prices_data_price_mean = prop_prices_data.groupby(pd.cut(prop_prices_data['days'], np.arange(0,26*365,365))).mean()\n",
    "\n",
    "#Adding column 'days in a yr' to represent each row as a year of 365 days taking Day 183 as midpoint\n",
    "prop_prices_data_price_mean['days_in_yr'] = ((np.arange(len(prop_prices_data_sales)))*365)+183\n",
    "\n",
    "#evaluating the line of best fit using NumPy polyfit method and added a column to populate respective values\n",
    "m,c = np.polyfit(prop_prices_data_price_mean['days_in_yr'], prop_prices_data_price_mean['price_paid'], 1)\n",
    "line = m*prop_prices_data_price_mean['days_in_yr']+c\n",
    "prop_prices_data_price_mean['line_fitting'] = line\n",
    "\n",
    "#Plotting the scatter graph for sales vs days\n",
    "ax = prop_prices_data_price_mean.plot(kind = 'scatter',\n",
    "          y = 'price_paid',\n",
    "          x = 'days_in_yr',\n",
    "          color ='purple',\n",
    "          label = 'values')\n",
    "prop_prices_data_price_mean.set_index('days_in_yr', inplace=True)\n",
    "prop_prices_data_price_mean.line_fitting.plot(ax=ax, color ='pink')\n",
    "plt.gca()\n",
    "plt.title('Detached House Price Mean Vs Days')\n",
    "plt.ylabel('Detached House Mean Prices ----->')\n",
    "plt.xlabel('Days ----->')\n",
    "plt.grid()\n",
    "plt.show()"
   ]
  },
  {
   "cell_type": "markdown",
   "metadata": {},
   "source": [
    "##### As you can see in the code, the line of best fit was calculated using the formula y = mx+c where m and c were calculated using the NumPy polyfit function which had inputs of days_in_yr and price_paid from the sales dataframe. \n",
    "##### The plot shows a scatter of points in an increasing trend when plotted for Mean prices of detached property type vs Days. However, the line of best fit plot identifies a upward trend of mean prices paid over the increasing days. \n",
    "##### The line of best fit more or less matches the plot and somewhat fits the plot, however it is not a perfect fit. It does gives us an overall indication that despite having decline in mean prices during the interval of days, the overall sentiment or trend shows a substantial increase in mean paid prices over the increasing days between 1995 and end of 2019."
   ]
  },
  {
   "cell_type": "code",
   "execution_count": 16,
   "metadata": {},
   "outputs": [
    {
     "name": "stdout",
     "output_type": "stream",
     "text": [
      "The dataframe contains 30255 rows &  10 columns\n",
      "        price_paid   deed_date postcode property_type  new_build estate_type  \\\n",
      "2           165500  01/01/1995  B45 8LY             D          0           1   \n",
      "7            65000  03/01/1995  B23 5DN             D          0           0   \n",
      "38          128500  05/01/1995  B32 4BG             D          0           1   \n",
      "41          155000  05/01/1995  B46 2BY             D          0           1   \n",
      "47           85000  06/01/1995  B13 9JQ             D          0           1   \n",
      "...            ...         ...      ...           ...        ...         ...   \n",
      "370911      465000  20/12/2019  B37 7WH             D          1           1   \n",
      "370914      269995  20/12/2019  B38 9EF             D          1           1   \n",
      "370937      374995  20/12/2019  B45 8FS             D          1           1   \n",
      "370960      245000  23/12/2019  B31 1TU             D          0           1   \n",
      "370963      260000  23/12/2019  B45 9YP             D          0           1   \n",
      "\n",
      "        transaction_category   PC  days  normalised_price  \n",
      "2                          1  458     1          0.171946  \n",
      "7                          1  235     3         -0.185839  \n",
      "38                         1  324     5          0.040224  \n",
      "41                         1  462     5          0.134566  \n",
      "47                         1  139     6         -0.114638  \n",
      "...                      ...  ...   ...               ...  \n",
      "370911                     1  377  9120          1.238181  \n",
      "370914                     1  389  9120          0.543954  \n",
      "370937                     1  458  9120          0.917759  \n",
      "370960                     1  311  9123          0.454970  \n",
      "370963                     1  459  9123          0.508371  \n",
      "\n",
      "[30255 rows x 10 columns]\n"
     ]
    }
   ],
   "source": [
    "#Created a new column 'normalised_price' and normalized the values in 'price_paid' column using the line of best fitting values \n",
    "prop_prices_data['normalised_price'] = (prop_prices_data['price_paid'] - np.min(prop_prices_data_price_mean['line_fitting']))/(np.max(prop_prices_data_price_mean['line_fitting']) - np.min(prop_prices_data_price_mean['line_fitting']))\n",
    "\n",
    "#Printing updated dataset rows & column count\n",
    "rows, cols = prop_prices_data.shape\n",
    "print('The dataframe contains {} rows &  {} columns'.format(rows, cols))\n",
    "print(prop_prices_data)"
   ]
  },
  {
   "cell_type": "markdown",
   "metadata": {},
   "source": [
    "# Q1(f) \n",
    "Create a new Data frame only including PC and the mean normalised price_paid data for each PC. Determine the 'PC's with the 10 largest normalised price_paid for detached houses. (3 marks)"
   ]
  },
  {
   "cell_type": "code",
   "execution_count": 17,
   "metadata": {},
   "outputs": [
    {
     "name": "stdout",
     "output_type": "stream",
     "text": [
      "         PC  normalised_price\n",
      "2       458          0.171946\n",
      "7       235         -0.185839\n",
      "38      324          0.040224\n",
      "41      462          0.134566\n",
      "47      139         -0.114638\n",
      "...     ...               ...\n",
      "370911  377          1.238181\n",
      "370914  389          0.543954\n",
      "370937  458          0.917759\n",
      "370960  311          0.454970\n",
      "370963  459          0.508371\n",
      "\n",
      "[30255 rows x 2 columns]\n"
     ]
    }
   ],
   "source": [
    "#Creating new dataframe having only columns 'PC' and 'normalised_price' from main dataframe 'prop_prices_data'\n",
    "prop_data_pc_norm = prop_prices_data.filter(['PC','normalised_price'],axis=1)\n",
    "print(prop_data_pc_norm)"
   ]
  },
  {
   "cell_type": "code",
   "execution_count": 18,
   "metadata": {},
   "outputs": [
    {
     "name": "stdout",
     "output_type": "stream",
     "text": [
      "      PC  normalised_price\n",
      "0     11          0.420260\n",
      "1     12         -0.157358\n",
      "2     13          0.284088\n",
      "3     31          0.359496\n",
      "4     32         -0.061237\n",
      "..   ...               ...\n",
      "117  462          0.810511\n",
      "118  463          0.521727\n",
      "119  475          0.458419\n",
      "120  476          0.667299\n",
      "121  487          0.806497\n",
      "\n",
      "[122 rows x 2 columns]\n"
     ]
    }
   ],
   "source": [
    "#Grouping record by each 'PC' and calculating the mean\n",
    "prop_data_pc_norm = prop_data_pc_norm.groupby(by='PC').mean().reset_index()\n",
    "print(prop_data_pc_norm)"
   ]
  },
  {
   "cell_type": "code",
   "execution_count": 19,
   "metadata": {},
   "outputs": [
    {
     "name": "stdout",
     "output_type": "stream",
     "text": [
      "      PC  normalised_price\n",
      "36   151          1.883383\n",
      "37   152          1.583934\n",
      "38   153          1.508123\n",
      "114  458          1.093138\n",
      "43   178          1.019601\n",
      "30   138          0.883989\n",
      "76   297          0.860849\n",
      "44   179          0.859283\n",
      "5     47          0.840642\n",
      "117  462          0.810511\n"
     ]
    }
   ],
   "source": [
    "#Printing the 10 largest mean normalized values for unique PC values\n",
    "print(prop_data_pc_norm.nlargest(10,'normalised_price'))"
   ]
  },
  {
   "cell_type": "markdown",
   "metadata": {},
   "source": [
    "# Q1(g) \n",
    "For detached houses, split the data into (80%) training data and (20%) test data. Use an appropriate regression model from sklearn to predict the price_paid using the variables: 'days', 'PC', 'new_build', 'estate_type', and 'transaction_category'. \n",
    "Test your model using the test data set. Discuss your results. (4 marks)"
   ]
  },
  {
   "cell_type": "code",
   "execution_count": 20,
   "metadata": {},
   "outputs": [
    {
     "name": "stdout",
     "output_type": "stream",
     "text": [
      "Prediction Price Values : [0.99826965 0.99838429 0.99885435 0.99891205 0.99761724]\n",
      "Test Price Values : [0.99959101 0.9995156  0.99959753 0.99981557 0.99996718]\n",
      "Training error : 4.842450230976532e-06\n"
     ]
    }
   ],
   "source": [
    "#Importing sklearn libraries\n",
    "import sklearn.metrics as metrics\n",
    "from sklearn.preprocessing import normalize\n",
    "from sklearn.linear_model import LinearRegression\n",
    "from sklearn.model_selection import train_test_split\n",
    "\n",
    "#Dropping unwanted columns to have only columns used in regression model\n",
    "prop_prices_data.drop(columns=['deed_date', 'postcode', 'property_type', 'normalised_price'], inplace=True)\n",
    "\n",
    "#Normalizing data before regression using sklearn\n",
    "prop_norm_data = normalize(prop_prices_data)\n",
    "\n",
    "#Creating training data segregating the data to features and price set\n",
    "features_set = prop_norm_data[:,1:6]\n",
    "price_set = prop_norm_data[:,0]\n",
    "\n",
    "#Splitting the data train & test in the ratio of 80:20 respectively.\n",
    "features_set_train, features_set_test, price_set_train, price_set_test = train_test_split(features_set, price_set, \n",
    "                                                                                          test_size = 0.20)\n",
    "\n",
    "#Using sklearn class linear regression to regress the data\n",
    "regress = LinearRegression()\n",
    "regress.fit(features_set_train, price_set_train)\n",
    "\n",
    "#Storing prediction of price data to compare later on\n",
    "pred_price = regress.predict(features_set_test)\n",
    "\n",
    "#Printing the first 5 values to compare\n",
    "print(\"Prediction Price Values : {}\".format(pred_price[:5]))\n",
    "print(\"Test Price Values : {}\".format(price_set_test[:5]))\n",
    "\n",
    "#Testing error metrics\n",
    "error_val = metrics.mean_squared_error(price_set_test, pred_price)\n",
    "print(\"Training error : {}\".format(error_val))"
   ]
  },
  {
   "cell_type": "markdown",
   "metadata": {},
   "source": [
    "##### The regression model used here is Linear Regression from the sklearn library. Inorder to get an optimized result with minimal training error firstly we normalized the data using sklearn normalize method.\n",
    "\n",
    "##### The training error was found to be 0.00000565193, which shows that our model almost perfectly fits the data. The linear regression model has been successful trained to predict the price paid values on the basis of the input features of the data.\n",
    "\n",
    "##### The training error metric was calculated using the mean squared error between the test and the predicted price."
   ]
  },
  {
   "cell_type": "markdown",
   "metadata": {},
   "source": [
    "# Q1(h)\n",
    "For detached houses, split the data into (80%) training data and (20%) test data. Normalise the data appropriately without using sklearn. Create a simple linear regression model using PyTorch; select an appropriate criterion, optimisation algorithm, and learning rate. Train the model and report the training error. Comment on the testing error. (6 marks)"
   ]
  },
  {
   "cell_type": "markdown",
   "metadata": {},
   "source": [
    "##### Optimisation algorithm used is Adam from the pytorch libraries, criteria for reporting error is Mean Squared Error and the learning error was set at 0.01"
   ]
  },
  {
   "cell_type": "code",
   "execution_count": 21,
   "metadata": {},
   "outputs": [
    {
     "name": "stdout",
     "output_type": "stream",
     "text": [
      "        price_paid  new_build  estate_type  transaction_category        PC  \\\n",
      "2         0.034902        0.0          1.0                   1.0  0.939076   \n",
      "7         0.013629        0.0          0.0                   1.0  0.470588   \n",
      "38        0.027070        0.0          1.0                   1.0  0.657563   \n",
      "41        0.032679        0.0          1.0                   1.0  0.947479   \n",
      "47        0.017863        0.0          1.0                   1.0  0.268908   \n",
      "...            ...        ...          ...                   ...       ...   \n",
      "370911    0.098296        1.0          1.0                   1.0  0.768908   \n",
      "370914    0.057020        1.0          1.0                   1.0  0.794118   \n",
      "370937    0.079245        1.0          1.0                   1.0  0.939076   \n",
      "370960    0.051729        0.0          1.0                   1.0  0.630252   \n",
      "370963    0.054904        0.0          1.0                   1.0  0.941176   \n",
      "\n",
      "            days  \n",
      "2       0.000000  \n",
      "7       0.000219  \n",
      "38      0.000439  \n",
      "41      0.000439  \n",
      "47      0.000548  \n",
      "...          ...  \n",
      "370911  0.999671  \n",
      "370914  0.999671  \n",
      "370937  0.999671  \n",
      "370960  1.000000  \n",
      "370963  1.000000  \n",
      "\n",
      "[30255 rows x 6 columns]\n"
     ]
    },
    {
     "name": "stderr",
     "output_type": "stream",
     "text": [
      "C:\\Users\\joelg\\anaconda3\\lib\\site-packages\\numpy\\core\\fromnumeric.py:84: FutureWarning: In a future version, DataFrame.min(axis=None) will return a scalar min over the entire DataFrame. To retain the old behavior, use 'frame.min(axis=0)' or just 'frame.min()'\n",
      "  return reduction(axis=axis, out=out, **passkwargs)\n",
      "C:\\Users\\joelg\\anaconda3\\lib\\site-packages\\numpy\\core\\fromnumeric.py:84: FutureWarning: In a future version, DataFrame.max(axis=None) will return a scalar max over the entire DataFrame. To retain the old behavior, use 'frame.max(axis=0)' or just 'frame.max()'\n",
      "  return reduction(axis=axis, out=out, **passkwargs)\n"
     ]
    }
   ],
   "source": [
    "import torch\n",
    "\n",
    "#Normalizing data using Min Max normalization\n",
    "normal_prop_data = pd.DataFrame()\n",
    "normal_prop_data = ((prop_prices_data - np.min(prop_prices_data))/(np.max(prop_prices_data) - np.min(prop_prices_data))).astype(float)\n",
    "print(normal_prop_data)"
   ]
  },
  {
   "cell_type": "code",
   "execution_count": 22,
   "metadata": {},
   "outputs": [],
   "source": [
    "#Creating training data segregating the data to features and price set\n",
    "features_set = normal_prop_data.drop('price_paid', axis=1)\n",
    "price_set = normal_prop_data['price_paid']\n",
    "\n",
    "#Converting them to tensors\n",
    "features_set = torch.Tensor(features_set.values)\n",
    "price_set = torch.Tensor(price_set.values)\n",
    "\n",
    "#Splitting the data train & test in the ratio of 80:20 respectively.\n",
    "features_set_train, features_set_test, price_set_train, price_set_test = train_test_split(features_set, price_set, test_size = 0.20)\n",
    "\n",
    "# Defining trainable parameters : weights and bias \n",
    "weight_mx = torch.randn((5, 1), requires_grad=True)\n",
    "bias_mx = torch.randn(1, requires_grad=True)"
   ]
  },
  {
   "cell_type": "code",
   "execution_count": 23,
   "metadata": {},
   "outputs": [
    {
     "name": "stderr",
     "output_type": "stream",
     "text": [
      "C:\\Users\\joelg\\anaconda3\\lib\\site-packages\\torch\\nn\\modules\\loss.py:536: UserWarning: Using a target size (torch.Size([24204])) that is different to the input size (torch.Size([24204, 1])). This will likely lead to incorrect results due to broadcasting. Please ensure they have the same size.\n",
      "  return F.mse_loss(input, target, reduction=self.reduction)\n"
     ]
    },
    {
     "name": "stdout",
     "output_type": "stream",
     "text": [
      "Iteration 0, Testing error 1.5349076986312866\n",
      "Iteration 1, Testing error 1.4379061460494995\n",
      "Iteration 2, Testing error 1.3445119857788086\n",
      "Iteration 3, Testing error 1.254784107208252\n",
      "Iteration 4, Testing error 1.1687729358673096\n",
      "Iteration 5, Testing error 1.0865213871002197\n",
      "Iteration 6, Testing error 1.0080631971359253\n",
      "Iteration 7, Testing error 0.9334230422973633\n",
      "Iteration 8, Testing error 0.8626146912574768\n",
      "Iteration 9, Testing error 0.7956418395042419\n",
      "Iteration 10, Testing error 0.7324960231781006\n",
      "Iteration 11, Testing error 0.6731575131416321\n",
      "Iteration 12, Testing error 0.6175941824913025\n",
      "Iteration 13, Testing error 0.5657610893249512\n",
      "Iteration 14, Testing error 0.5176006555557251\n",
      "Iteration 15, Testing error 0.4730427861213684\n",
      "Iteration 16, Testing error 0.43200379610061646\n",
      "Iteration 17, Testing error 0.3943878412246704\n",
      "Iteration 18, Testing error 0.3600865304470062\n",
      "Iteration 19, Testing error 0.32897958159446716\n"
     ]
    }
   ],
   "source": [
    "# Then we define the prediction model\n",
    "def linear_reg_model(x_input):\n",
    "    return x_input.mm(weight_mx) + bias_mx\n",
    "\n",
    "#Defining the loss criterion\n",
    "loss_criterion = torch.nn.MSELoss()\n",
    " \n",
    "#Using Adam stochastic method optimizer with params and learning rate (lr)\n",
    "optimizer_meth = torch.optim.Adam([weight_mx,bias_mx], lr= 0.01)\n",
    "\n",
    "for iteration in range(20):\n",
    "\n",
    " \t# Forward pass: predicting paid_price using features set\n",
    " \tprediction_price = linear_reg_model(features_set_train)\n",
    "\n",
    " \t# Evaluating loss\n",
    " \terror_loss = loss_criterion(prediction_price, price_set_train)\n",
    "\n",
    " \t# Considering zero gradients, performing a backward pass and updating the weights.\n",
    " \toptimizer_meth.zero_grad()\n",
    " \terror_loss.backward()\n",
    " \toptimizer_meth.step()\n",
    " \tprint('Iteration {}, Testing error {}'.format(iteration, error_loss.item()))"
   ]
  },
  {
   "cell_type": "markdown",
   "metadata": {},
   "source": [
    "##### As a part of simple linear regression using pytorch, the data was normalized for better efficiency. In this model a random start point for training the model is done and then the model backward passes the error so that the weights and biases can be tuned accordingly.\n",
    "##### The number of iterations is instrumental and can be set accordingly to reduce the testing error. Here in this example the code is trained at only 20 iterations. However to achieve more accurate results the model can be trained at a higher number of iterations producing even more lower error factor.\n",
    "##### In this example, the testing error begins at          at the first iteration and reduces to             by the last iteration. Thus we can state that the number of iterations is inversely proportional to the testing error."
   ]
  },
  {
   "cell_type": "markdown",
   "metadata": {},
   "source": [
    "# Q1(i) \n",
    "Create and train a multi-layer perceptron with one hidden layer (with an appropriate size with justification) using PyTorch; select an appropriate criterion, optimisation algorithm, and learning rate. Train the model and report the training error. Comment on the testing error. (3 marks)"
   ]
  },
  {
   "cell_type": "code",
   "execution_count": 24,
   "metadata": {},
   "outputs": [],
   "source": [
    "from numpy import vstack\n",
    "from numpy import sqrt\n",
    "from sklearn.metrics import mean_squared_error\n",
    "from torch.utils.data import Dataset\n",
    "from torch.utils.data import DataLoader\n",
    "from torch.utils.data import random_split\n",
    "from torch.nn import Linear\n",
    "from torch.nn import Sigmoid\n",
    "from torch.nn import Module\n",
    "from torch.optim import SGD\n",
    "from torch.nn import MSELoss\n",
    "from torch.nn.init import xavier_uniform_\n",
    "\n",
    "# dataset definition\n",
    "class norm_data(Dataset):\n",
    "    # load the dataset\n",
    "    def __init__(self, feed):\n",
    "        dat_f = feed.astype('float32')\n",
    "        # separating input features and price_paid \n",
    "        self.feat_set = dat_f.values[:, :-1].astype('float32')\n",
    "        self.pr_set = dat_f.values[:, -1].astype('float32')\n",
    "        # Reshaping\n",
    "        self.pr_set = self.pr_set.reshape((len(self.pr_set), 1))\n",
    "\n",
    "    # length of feed\n",
    "    def __len__(self):\n",
    "        return len(self.feat_set)\n",
    "\n",
    "    # Location rows at an index\n",
    "    def __getitem__(self, index):\n",
    "         return [self.feat_set[index], self.pr_set[index]]\n",
    "\n",
    "    # Splitting data as 80:20\n",
    "    def segregate(self, n_test=0.20):\n",
    "        test_size = round(n_test * len(self.feat_set))\n",
    "        train_size = len(self.feat_set) - test_size\n",
    "        return random_split(self, [train_size, test_size])"
   ]
  },
  {
   "cell_type": "code",
   "execution_count": 25,
   "metadata": {},
   "outputs": [],
   "source": [
    "# Defining the model\n",
    "class Perceptron(Module):\n",
    "    # define model elements\n",
    "    def __init__(self, feat_imputs):\n",
    "        super(Perceptron, self).__init__()\n",
    "        # input to first hidden layer\n",
    "        self.first_layer = Linear(feat_imputs, 10)\n",
    "        xavier_uniform_(self.first_layer.weight)\n",
    "        self.activatn = Sigmoid()\n",
    "        self.final_layer = Linear(10, 1)\n",
    "        xavier_uniform_(self.final_layer.weight)\n",
    "\n",
    "    # forward propagate input\n",
    "    def forward(self, feat_set):\n",
    "        # input to first hidden layer\n",
    "        feat_set = self.first_layer(feat_set)\n",
    "        feat_set = self.activatn(feat_set)\n",
    "        # output\n",
    "        feat_set = self.final_layer(feat_set)\n",
    "        return feat_set\n",
    "\n",
    "# procesing the dataset\n",
    "def data_prep(feed):\n",
    "    # feeding the dataset\n",
    "    obj = norm_data(feed)\n",
    "    # separate data as test and train data\n",
    "    train, test = obj.segregate()\n",
    "    # Data loaders\n",
    "    train = DataLoader(train, batch_size=2000, shuffle=True)\n",
    "    test = DataLoader(test, batch_size=4000, shuffle=False)\n",
    "    return train, test\n",
    "\n",
    "# Training the model\n",
    "def train_model(feed, model):\n",
    "    # define the optimization\n",
    "    criterion = MSELoss()\n",
    "    optimizer = SGD(model.parameters(), lr=0.01)\n",
    "    # looping to train the model\n",
    "    for epoch in range(50):\n",
    "        for i, (features, pr) in enumerate(feed):         \n",
    "            # Considering 0 gradients\n",
    "            optimizer.zero_grad()\n",
    "            # estimate the mresult\n",
    "            ev_value = model(features)\n",
    "            # loss valuation\n",
    "            loss = criterion(ev_value, pr)\n",
    "            # feed the error via backpropagation\n",
    "            loss.backward()\n",
    "            # update weights\n",
    "            optimizer.step()\n",
    "\n",
    "# test function for the model\n",
    "def evaluate_model(feed, model):\n",
    "    test_value, actual_value = list(), list()\n",
    "    for i, (features, pr) in enumerate(feed):\n",
    "        # Testing the model on test set data\n",
    "        test_ev_value = model(features)\n",
    "        # retrieve numpy array\n",
    "        test_ev_value = test_ev_value.detach().numpy()\n",
    "        origin_dt = pr.numpy()\n",
    "        origin_dt = origin_dt.reshape((len(test_ev_value), 1))\n",
    "        # store\n",
    "        test_value.append(test_ev_value)\n",
    "        actual_value.append(origin_dt)\n",
    "    test_value, actual_value = vstack(test_value), vstack(actual_value)\n",
    "    # calculate mse\n",
    "    error = mean_squared_error(actual_value, test_value)\n",
    "    return error"
   ]
  },
  {
   "cell_type": "code",
   "execution_count": 26,
   "metadata": {},
   "outputs": [
    {
     "name": "stdout",
     "output_type": "stream",
     "text": [
      "Training Error Report : Mean Sqrt Error: 0.09007, Root of the error: 0.30012\n"
     ]
    }
   ],
   "source": [
    "# Data preparation feeding the normalized data to the system\n",
    "train_data, test_data = data_prep(normal_prop_data)\n",
    "# Network Definition with number of features as input\n",
    "neural_model = Perceptron(5)\n",
    "# Training the network\n",
    "train_model(train_data, neural_model)\n",
    "# Testing the network\n",
    "testing_err = evaluate_model(test_data, neural_model)\n",
    "print('Training Error Report : Mean Sqrt Error: %.5f, Root of the error: %.5f' % (testing_err, sqrt(testing_err)))"
   ]
  },
  {
   "cell_type": "markdown",
   "metadata": {},
   "source": [
    "##### The perceptron model built above have one input layer with 5 inputs representing 5 features from the dataset and one hidden layer have 10 inputs, which are trained to provide one output from the output layer.\n",
    "\n",
    "##### The data fed into the perceptron is normalized before training and testing, the optimization model used is Stochastic Gradient Descent, error criterion is Mean Squared Error and learning rate in 0.01\n",
    "\n",
    "##### While testing the perceptron neural model with the test data the error we received is 0.08485 which shows that are neural model has been successful enough to predict the normalized paid prices and the training of the model for our dataset has been successful."
   ]
  },
  {
   "cell_type": "markdown",
   "metadata": {},
   "source": [
    "# Q2(a) \n",
    "Read in all 20 csv files. Create a single data frame with 2376 rows and 1120 columns. Remove all schools that have closed down (see row 13). Remove all schools which don’t provide secondary school education or post 16 education, i.e. remove schools with a ’0’ in rows 19 or 20. Additionally remove all schools which don't have an Ofsted rating (see row 26). \n",
    "Finally remove all schools which have missing values in best 3 A level entries (see row 1930). You data frame should now have 2376 rows and 167 columns. (6 marks)"
   ]
  },
  {
   "cell_type": "code",
   "execution_count": 27,
   "metadata": {},
   "outputs": [
    {
     "name": "stdout",
     "output_type": "stream",
     "text": [
      "The dataframe contains 2376 rows &  1120 columns\n"
     ]
    }
   ],
   "source": [
    "import numpy as np\n",
    "import pandas as pd\n",
    "import glob as gb\n",
    "\n",
    "#Reading and storing all the filenames in a list\n",
    "files = gb.glob(\"Schools_*.csv\")\n",
    "\n",
    "#Created a boolean variable to identify the first file\n",
    "first_file_ind = False\n",
    "\n",
    "#looping through individual files in the list to read and create a dataframe 'school_info'\n",
    "for file in files:\n",
    "    current_school = pd.read_csv(file);\n",
    "    \n",
    "    #Logic to read files and concat to a single dataframe\n",
    "    if first_file_ind == False:\n",
    "        school_info = current_school\n",
    "        first_file_ind = True #Since first file has been read setting it to True\n",
    "    else:\n",
    "        school_info = pd.concat([school_info, current_school], axis=1)\n",
    "\n",
    "#Printing the dataframe shape\n",
    "rows, cols = school_info.shape\n",
    "print('The dataframe contains {} rows &  {} columns'.format(rows, cols))"
   ]
  },
  {
   "cell_type": "code",
   "execution_count": 28,
   "metadata": {},
   "outputs": [],
   "source": [
    "#Transpose the dataframe to perform removal operations with ease\n",
    "school_info = school_info.T\n",
    "\n",
    "#Removing Schools that have closed down using column index 11\n",
    "school_info.drop(school_info[school_info[11] == 'Closed'].index, inplace = True)"
   ]
  },
  {
   "cell_type": "code",
   "execution_count": 29,
   "metadata": {},
   "outputs": [],
   "source": [
    "#Removing Schools that dont provide secondary school & post 16 education using column index 17 & 18\n",
    "school_info.drop(school_info[school_info[17] == '0'].index, inplace = True)\n",
    "school_info.drop(school_info[school_info[18] == '0'].index, inplace = True)"
   ]
  },
  {
   "cell_type": "code",
   "execution_count": 30,
   "metadata": {},
   "outputs": [
    {
     "name": "stdout",
     "output_type": "stream",
     "text": [
      "The dataframe contains 2376 rows &  167 columns\n",
      "        No Namespace                            Variable  \\\n",
      "0        1         L                                 URN   \n",
      "1        2         L                              LANAME   \n",
      "2        3         L                                  LA   \n",
      "3        4         L                               ESTAB   \n",
      "4        5         L                             LAESTAB   \n",
      "...    ...       ...                                 ...   \n",
      "2371  2372    KS5_19      PT_RETAINED_TLEV_RET_NOTDIS_17   \n",
      "2372  2373    KS5_19    T_INSCOPE_TECHCERT_RET_NOTDIS_18   \n",
      "2373  2374    KS5_19    T_INSCOPE_TECHCERT_RET_NOTDIS_17   \n",
      "2374  2375    KS5_19  PT_RETAINED_TECHCERT_RET_NOTDIS_18   \n",
      "2375  2376    KS5_19  PT_RETAINED_TECHCERT_RET_NOTDIS_17   \n",
      "\n",
      "     Birmingham Ormiston Academy - 136944  \\\n",
      "0                                  136944   \n",
      "1                              Birmingham   \n",
      "2                                     330   \n",
      "3                                    4000   \n",
      "4                                 3304000   \n",
      "...                                   ...   \n",
      "2371                                85.9%   \n",
      "2372                                   NE   \n",
      "2373                                   NE   \n",
      "2374                                   NE   \n",
      "2375                                   NE   \n",
      "\n",
      "     Aston University Engineering Academy - 138222  \\\n",
      "0                                           138222   \n",
      "1                                       Birmingham   \n",
      "2                                              330   \n",
      "3                                             4003   \n",
      "4                                          3304003   \n",
      "...                                            ...   \n",
      "2371                                         77.1%   \n",
      "2372                                            NE   \n",
      "2373                                            NE   \n",
      "2374                                            NE   \n",
      "2375                                            NE   \n",
      "\n",
      "     South and City College Birmingham - 130461 Heartlands Academy - 135907  \\\n",
      "0                                        130461                      135907   \n",
      "1                                    Birmingham                  Birmingham   \n",
      "2                                           330                         330   \n",
      "3                                          8006                        6905   \n",
      "4                                       3308006                     3306905   \n",
      "...                                         ...                         ...   \n",
      "2371                                      86.0%                        SUPP   \n",
      "2372                                        136                          NE   \n",
      "2373                                        106                          NE   \n",
      "2374                                      88.2%                          NE   \n",
      "2375                                      84.0%                          NE   \n",
      "\n",
      "     Aston Manor Academy - 136882 Nishkam High School - 138586  \\\n",
      "0                          136882                       138586   \n",
      "1                      Birmingham                   Birmingham   \n",
      "2                             330                          330   \n",
      "3                            4220                         4004   \n",
      "4                         3304220                      3304004   \n",
      "...                           ...                          ...   \n",
      "2371                         SUPP                           NE   \n",
      "2372                           NE                           NE   \n",
      "2373                           NE                           NE   \n",
      "2374                           NE                           NE   \n",
      "2375                           NE                           NE   \n",
      "\n",
      "     Ark St Alban's Academy - 135970  ...  \\\n",
      "0                             135970  ...   \n",
      "1                         Birmingham  ...   \n",
      "2                                330  ...   \n",
      "3                               6908  ...   \n",
      "4                            3306908  ...   \n",
      "...                              ...  ...   \n",
      "2371                              NE  ...   \n",
      "2372                              NE  ...   \n",
      "2373                              NE  ...   \n",
      "2374                              NE  ...   \n",
      "2375                              NE  ...   \n",
      "\n",
      "     Ormiston Shelfield Community Academy - 135769  \\\n",
      "0                                           135769   \n",
      "1                                          Walsall   \n",
      "2                                              335   \n",
      "3                                             6906   \n",
      "4                                          3356906   \n",
      "...                                            ...   \n",
      "2371                                          SUPP   \n",
      "2372                                            NE   \n",
      "2373                                            NE   \n",
      "2374                                            NE   \n",
      "2375                                            NE   \n",
      "\n",
      "                                            Description    No Namespace  \\\n",
      "0                        School unique reference number     1         L   \n",
      "1                                  Local authority name     2         L   \n",
      "2                                Local authority number     3         L   \n",
      "3                                  Establishment number     4         L   \n",
      "4                                            DfE number     5         L   \n",
      "...                                                 ...   ...       ...   \n",
      "2371  This is a historical variable. It holds the 20...  2372    KS5_19   \n",
      "2372  This is a historical variable. It holds the 20...  2373    KS5_19   \n",
      "2373  This is a historical variable. It holds the 20...  2374    KS5_19   \n",
      "2374  This is a historical variable. It holds the 20...  2375    KS5_19   \n",
      "2375  This is a historical variable. It holds the 20...  2376    KS5_19   \n",
      "\n",
      "                                Variable Bloxwich Academy - 137274  \\\n",
      "0                                    URN                    137274   \n",
      "1                                 LANAME                   Walsall   \n",
      "2                                     LA                       335   \n",
      "3                                  ESTAB                      4001   \n",
      "4                                LAESTAB                   3354001   \n",
      "...                                  ...                       ...   \n",
      "2371      PT_RETAINED_TLEV_RET_NOTDIS_17                      SUPP   \n",
      "2372    T_INSCOPE_TECHCERT_RET_NOTDIS_18                        NE   \n",
      "2373    T_INSCOPE_TECHCERT_RET_NOTDIS_17                        NE   \n",
      "2374  PT_RETAINED_TECHCERT_RET_NOTDIS_18                        NE   \n",
      "2375  PT_RETAINED_TECHCERT_RET_NOTDIS_17                        NE   \n",
      "\n",
      "     Ellowes Hall Sports College - 141570 Shire Oak Academy - 136620  \\\n",
      "0                                  141570                     136620   \n",
      "1                                  Dudley                    Walsall   \n",
      "2                                     332                        335   \n",
      "3                                    5401                       5402   \n",
      "4                                 3325401                    3355402   \n",
      "...                                   ...                        ...   \n",
      "2371                                   NE                       SUPP   \n",
      "2372                                   NE                         NE   \n",
      "2373                                   NE                         NE   \n",
      "2374                                   NE                         NE   \n",
      "2375                                   NE                         NE   \n",
      "\n",
      "     Pool Hayes Academy - 142594  \\\n",
      "0                         142594   \n",
      "1                        Walsall   \n",
      "2                            335   \n",
      "3                           4106   \n",
      "4                        3354106   \n",
      "...                          ...   \n",
      "2371                        SUPP   \n",
      "2372                          NE   \n",
      "2373                          NE   \n",
      "2374                          NE   \n",
      "2375                          NE   \n",
      "\n",
      "                                            Description  \n",
      "0                        School unique reference number  \n",
      "1                                  Local authority name  \n",
      "2                                Local authority number  \n",
      "3                                  Establishment number  \n",
      "4                                            DfE number  \n",
      "...                                                 ...  \n",
      "2371  This is a historical variable. It holds the 20...  \n",
      "2372  This is a historical variable. It holds the 20...  \n",
      "2373  This is a historical variable. It holds the 20...  \n",
      "2374  This is a historical variable. It holds the 20...  \n",
      "2375  This is a historical variable. It holds the 20...  \n",
      "\n",
      "[2376 rows x 167 columns]\n"
     ]
    }
   ],
   "source": [
    "#Removing schools having no values in 'Ofsted' & 'Best 3 A level entries' which are column index 24 & 1928\n",
    "school_info.dropna(axis=0, subset=24, inplace= True)\n",
    "school_info.dropna(axis=0, subset=1928, inplace= True)\n",
    "\n",
    "#Reverting the transpose to have the original shape of the dataframe after operations\n",
    "school_info = school_info.T\n",
    "\n",
    "#Printing the dataframe shape\n",
    "rows, cols = school_info.shape\n",
    "print('The dataframe contains {} rows &  {} columns'.format(rows, cols))\n",
    "\n",
    "print(school_info)"
   ]
  },
  {
   "cell_type": "markdown",
   "metadata": {},
   "source": [
    "# Q2(b)\n",
    "To simplify things keep rows 12, 26, 49, 81, 359, 769, 770, 771, 1482, 1930 and 1933 and remove all other rows. \n",
    "You should now be left with 11 rows and 167 columns. Transpose the data frame. Rename each column 'postcode', 'Ofsted', 'FSM', 'PT_ratio', 'absentees', 'top_third', 'Russell', 'Oxbridge', 'GCSE', 'best_3Alevels' and 'ratio_AAB'. Now remove the first 3 rows. You should now have 107 rows and 11 columns. (Notice 60 rows have gone due to repetition when reading in the 20 data files). (3 marks)"
   ]
  },
  {
   "cell_type": "code",
   "execution_count": 31,
   "metadata": {},
   "outputs": [
    {
     "name": "stdout",
     "output_type": "stream",
     "text": [
      "The dataframe contains 11 rows &  167 columns\n"
     ]
    }
   ],
   "source": [
    "#Removing the rows specified in the question, values used are specific to their indices in the dataframe\n",
    "school_row_no = [10,24,47,79,357,767,768,769,1480,1928,1931]\n",
    "school_info = school_info.loc[school_row_no]\n",
    "\n",
    "#Printing the dataframe shape after the operation \n",
    "rows, cols = school_info.shape\n",
    "print('The dataframe contains {} rows &  {} columns'.format(rows, cols))"
   ]
  },
  {
   "cell_type": "code",
   "execution_count": 32,
   "metadata": {},
   "outputs": [
    {
     "name": "stdout",
     "output_type": "stream",
     "text": [
      "Column names before renaming: Int64Index([10, 24, 47, 79, 357, 767, 768, 769, 1480, 1928, 1931], dtype='int64')\n"
     ]
    }
   ],
   "source": [
    "#Performing a transpose as directed\n",
    "school_info = school_info.T\n",
    "\n",
    "# Column names after transpose operation\n",
    "print('Column names before renaming:',school_info.columns)"
   ]
  },
  {
   "cell_type": "code",
   "execution_count": 33,
   "metadata": {},
   "outputs": [
    {
     "name": "stdout",
     "output_type": "stream",
     "text": [
      "Column names after renaming: Index(['postcode', 'Ofsted', 'FSM', 'PT_ratio', 'absentees', 'top_third',\n",
      "       'Russell', 'Oxbridge', 'GCSE', 'best_3Alevels', 'ratio_AAB'],\n",
      "      dtype='object')\n",
      "The dataframe contains 107 rows &  11 columns\n",
      "                                                      postcode  \\\n",
      "Birmingham Ormiston Academy - 136944                    B4 7QD   \n",
      "Aston University Engineering Academy - 138222           B7 4AG   \n",
      "South and City College Birmingham - 130461              B5 5SU   \n",
      "Heartlands Academy - 135907                             B7 4QR   \n",
      "Aston Manor Academy - 136882                            B6 4PZ   \n",
      "...                                                        ...   \n",
      "Bloxwich Academy - 137274                              WS2 7NR   \n",
      "Ellowes Hall Sports College - 141570                   DY3 2JH   \n",
      "Shire Oak Academy - 136620                             WS9 9PA   \n",
      "Pool Hayes Academy - 142594                           WV12 4QZ   \n",
      "Description                                    School postcode   \n",
      "\n",
      "                                                             Ofsted  \\\n",
      "Birmingham Ormiston Academy - 136944                           Good   \n",
      "Aston University Engineering Academy - 138222                  Good   \n",
      "South and City College Birmingham - 130461                     Good   \n",
      "Heartlands Academy - 135907                             Outstanding   \n",
      "Aston Manor Academy - 136882                            Outstanding   \n",
      "...                                                             ...   \n",
      "Bloxwich Academy - 137274                                      Good   \n",
      "Ellowes Hall Sports College - 141570           Requires improvement   \n",
      "Shire Oak Academy - 136620                     Requires improvement   \n",
      "Pool Hayes Academy - 142594                                    Good   \n",
      "Description                                           Ofsted rating   \n",
      "\n",
      "                                                                                             FSM  \\\n",
      "Birmingham Ormiston Academy - 136944                                                          13   \n",
      "Aston University Engineering Academy - 138222                                               50.7   \n",
      "South and City College Birmingham - 130461                                                   NaN   \n",
      "Heartlands Academy - 135907                                                                 71.7   \n",
      "Aston Manor Academy - 136882                                                                  70   \n",
      "...                                                                                          ...   \n",
      "Bloxwich Academy - 137274                                                                   66.7   \n",
      "Ellowes Hall Sports College - 141570                                                        23.7   \n",
      "Shire Oak Academy - 136620                                                                  29.5   \n",
      "Pool Hayes Academy - 142594                                                                 47.2   \n",
      "Description                                    Percentage of pupils eligible for FSM at any t...   \n",
      "\n",
      "                                                          PT_ratio  \\\n",
      "Birmingham Ormiston Academy - 136944                          18.1   \n",
      "Aston University Engineering Academy - 138222                  NaN   \n",
      "South and City College Birmingham - 130461                     NaN   \n",
      "Heartlands Academy - 135907                                   15.4   \n",
      "Aston Manor Academy - 136882                                  13.3   \n",
      "...                                                            ...   \n",
      "Bloxwich Academy - 137274                                     15.7   \n",
      "Ellowes Hall Sports College - 141570                          17.1   \n",
      "Shire Oak Academy - 136620                                    14.8   \n",
      "Pool Hayes Academy - 142594                                   15.9   \n",
      "Description                                    Pupil:Teacher Ratio   \n",
      "\n",
      "                                                                                       absentees  \\\n",
      "Birmingham Ormiston Academy - 136944                                                        11.8   \n",
      "Aston University Engineering Academy - 138222                                               27.4   \n",
      "South and City College Birmingham - 130461                                                   NaN   \n",
      "Heartlands Academy - 135907                                                                  8.8   \n",
      "Aston Manor Academy - 136882                                                                15.2   \n",
      "...                                                                                          ...   \n",
      "Bloxwich Academy - 137274                                                                     16   \n",
      "Ellowes Hall Sports College - 141570                                                        20.3   \n",
      "Shire Oak Academy - 136620                                                                    15   \n",
      "Pool Hayes Academy - 142594                                                                 19.4   \n",
      "Description                                    Percentage of enrolments who are persistent ab...   \n",
      "\n",
      "                                               top_third  Russell  Oxbridge  \\\n",
      "Birmingham Ormiston Academy - 136944                  8%       4%        0%   \n",
      "Aston University Engineering Academy - 138222        15%       9%        0%   \n",
      "South and City College Birmingham - 130461            1%       1%        0%   \n",
      "Heartlands Academy - 135907                           6%       6%        0%   \n",
      "Aston Manor Academy - 136882                          5%       5%        0%   \n",
      "...                                                  ...      ...       ...   \n",
      "Bloxwich Academy - 137274                             0%       0%        0%   \n",
      "Ellowes Hall Sports College - 141570                  7%       7%        0%   \n",
      "Shire Oak Academy - 136620                           16%      14%        0%   \n",
      "Pool Hayes Academy - 142594                           5%       5%        0%   \n",
      "Description                                    Top third  Russell  Oxbridge   \n",
      "\n",
      "                                                                                            GCSE  \\\n",
      "Birmingham Ormiston Academy - 136944                                                         58%   \n",
      "Aston University Engineering Academy - 138222                                                24%   \n",
      "South and City College Birmingham - 130461                                                    2%   \n",
      "Heartlands Academy - 135907                                                                  71%   \n",
      "Aston Manor Academy - 136882                                                                 41%   \n",
      "...                                                                                          ...   \n",
      "Bloxwich Academy - 137274                                                                    16%   \n",
      "Ellowes Hall Sports College - 141570                                                         45%   \n",
      "Shire Oak Academy - 136620                                                                   37%   \n",
      "Pool Hayes Academy - 142594                                                                  25%   \n",
      "Description                                    % of pupils achieving strong 9-5 passes in bot...   \n",
      "\n",
      "                                                                               best_3Alevels  \\\n",
      "Birmingham Ormiston Academy - 136944                                                   11.67   \n",
      "Aston University Engineering Academy - 138222                                          22.07   \n",
      "South and City College Birmingham - 130461                                             25.22   \n",
      "Heartlands Academy - 135907                                                            25.15   \n",
      "Aston Manor Academy - 136882                                                           28.21   \n",
      "...                                                                                      ...   \n",
      "Bloxwich Academy - 137274                                                              28.21   \n",
      "Ellowes Hall Sports College - 141570                                                   22.90   \n",
      "Shire Oak Academy - 136620                                                             32.70   \n",
      "Pool Hayes Academy - 142594                                                            28.13   \n",
      "Description                                    Average point score in best 3 A level entries   \n",
      "\n",
      "                                                                                       ratio_AAB  \n",
      "Birmingham Ormiston Academy - 136944                                                        0.0%  \n",
      "Aston University Engineering Academy - 138222                                              13.3%  \n",
      "South and City College Birmingham - 130461                                                  3.8%  \n",
      "Heartlands Academy - 135907                                                                 0.0%  \n",
      "Aston Manor Academy - 136882                                                                7.7%  \n",
      "...                                                                                          ...  \n",
      "Bloxwich Academy - 137274                                                                   0.0%  \n",
      "Ellowes Hall Sports College - 141570                                                        3.2%  \n",
      "Shire Oak Academy - 136620                                                                 14.3%  \n",
      "Pool Hayes Academy - 142594                                                                12.5%  \n",
      "Description                                    Percentage of A level students achieving at le...  \n",
      "\n",
      "[107 rows x 11 columns]\n"
     ]
    }
   ],
   "source": [
    "#Renaming the column names for the dataframe and printing them\n",
    "school_info.set_axis(['postcode', 'Ofsted', 'FSM', 'PT_ratio', 'absentees', \n",
    "                      'top_third', 'Russell', 'Oxbridge', 'GCSE', 'best_3Alevels', 'ratio_AAB'], axis=1, inplace=True)\n",
    "print('Column names after renaming:',school_info.columns)\n",
    "\n",
    "#First three row names for each file are identified and put in a list\n",
    "#Using the list specific rows have been dropped.\n",
    "row_list = ['No', 'Variable', 'Namespace']\n",
    "school_info.drop(row_list, axis=0, inplace=True)\n",
    "\n",
    "rows, cols = school_info.shape\n",
    "print('The dataframe contains {} rows &  {} columns'.format(rows, cols))\n",
    "print(school_info)"
   ]
  },
  {
   "cell_type": "markdown",
   "metadata": {},
   "source": [
    "# Q2(c) \n",
    "In the column named ’Ofsted rating’ convert ’Outstanding’ to 4, ’Good’ to 3, ’Requires improvement’ to 2 and ’Inadequate’ to 1. Also remove all % symbols from the data frame. Remove the schools with null values in 'PT_ratio' and 'top_third'. Remove the schools with values of 'NE' or 'SUPP' in 'AAB'. You should now have 92 rows and 11 columns. Remove all schools who's postcode does not start with a B, then use the same method you used in Task 1 to convert the remaining postcodes to a 3 digit number and label this column ’PC’. You should now have 56 rows and 12 columns. (6 marks)"
   ]
  },
  {
   "cell_type": "code",
   "execution_count": 34,
   "metadata": {},
   "outputs": [
    {
     "name": "stdout",
     "output_type": "stream",
     "text": [
      "The dataframe contains 92 rows &  11 columns\n"
     ]
    }
   ],
   "source": [
    "#Replacing values\n",
    "school_info['Ofsted'] = school_info['Ofsted'].replace(['Outstanding','Good','Requires improvement','Inadequate'],[4,3,2,1])\n",
    "\n",
    "#Removing '%' from the entire dataframe\n",
    "school_info = school_info.replace({'%':''}, regex=True)\n",
    "\n",
    "#Removing rows with null values in columns 'PT_ratio' and 'top_third'\n",
    "school_info.dropna(axis=0, subset=['PT_ratio','top_third'], inplace= True)\n",
    "\n",
    "#Removing rows with values 'NE' and 'SUPP' from column 'ratio_AAB'\n",
    "school_info.drop(school_info[(school_info.ratio_AAB == 'NE') | (school_info.ratio_AAB == 'SUPP')].index, inplace = True)\n",
    "\n",
    "#Printing row and column count after these operations\n",
    "rows, cols = school_info.shape\n",
    "print('The dataframe contains {} rows &  {} columns'.format(rows, cols))"
   ]
  },
  {
   "cell_type": "code",
   "execution_count": 35,
   "metadata": {},
   "outputs": [
    {
     "name": "stdout",
     "output_type": "stream",
     "text": [
      "The dataframe contains 56 rows &  12 columns\n",
      "                                                   postcode Ofsted   FSM  \\\n",
      "Birmingham Ormiston Academy - 136944                 B4 7QD      3    13   \n",
      "Heartlands Academy - 135907                          B7 4QR      4  71.7   \n",
      "Aston Manor Academy - 136882                         B6 4PZ      4    70   \n",
      "Nishkam High School - 138586                        B19 2LF      4  31.1   \n",
      "Ark St Alban's Academy - 135970                     B12 0YH      2  74.2   \n",
      "King Edward VI Handsworth School - 137047           B21 9AR      4    18   \n",
      "St Paul's School for Girls - 103531                 B16 9SL      4  37.8   \n",
      "Broadway Academy - 139841                           B20 3DP      3  59.3   \n",
      "Waverley School - 142219                             B9 5QA      3  50.3   \n",
      "King Edward VI Handsworth Grammar School for Bo...  B21 9ET      4  17.8   \n",
      "King Edward VI Handsworth Wood Girls' Academy -...  B20 2HL      4  58.8   \n",
      "George Dixon Academy - 138695                       B16 9GD      3  59.7   \n",
      "Holyhead School - 137034                            B21 0HN      3  62.8   \n",
      "Washwood Heath Academy - 139888                      B8 2AS      3  58.3   \n",
      "Shireland Collegiate Academy - 135170               B66 4ND      4  48.6   \n",
      "Lordswood Girls' School and Sixth Form Centre -...  B17 8QB      2  28.5   \n",
      "Moseley School and Sixth Form - 103519              B13 9UU      3  52.1   \n",
      "Bishop Challoner Catholic College - 103560          B14 7EG      3  28.8   \n",
      "North Birmingham Academy - 136032                   B44 0HF      3  67.6   \n",
      "Sandwell Academy - 134993                           B71 4LG      4  25.6   \n",
      "King Edward VI Camp Hill School for Girls - 137044  B14 7QJ      4  17.7   \n",
      "King Edward VI Camp Hill School for Boys - 137045   B14 7QJ      4  17.3   \n",
      "Swanshurst School - 103514                          B13 0TW      4  52.1   \n",
      "Hamstead Hall Academy - 139746                      B20 1HL      3  40.2   \n",
      "Holly Lodge High School College of Science - 10...  B67 7JG      3  41.5   \n",
      "Fortis Academy - 143435                             B44 8NU      2  51.2   \n",
      "Hillcrest School and Sixth Form Centre - 137346     B32 3AE      3  55.8   \n",
      "Kings Norton Girls' School - 136590                 B30 1HW      4    27   \n",
      "King Edward VI Sheldon Heath Academy - 136152       B26 2RZ      3  50.7   \n",
      "Q3 Academy Great Barr - 135449                      B43 7SD      3  21.1   \n",
      "Greenwood Academy - 139048                          B35 7NL      3  55.8   \n",
      "St Thomas Aquinas Catholic School - 141835          B38 8AP      3  45.5   \n",
      "Sutton Coldfield Grammar School for Girls - 136778  B73 5PT      4   6.2   \n",
      "Bishop Walsh Catholic School - 140524               B76 1QT      3  12.6   \n",
      "Holte School - 103509                               B19 2EP      2  71.2   \n",
      "King Edward VI Aston School - 137043                 B6 6DJ      4  27.2   \n",
      "Bordesley Green Girls' School & Sixth Form - 10...   B9 4TR      3    53   \n",
      "King Edward VI Five Ways School - 137046            B32 4BT      4  17.2   \n",
      "Grace Academy Solihull - 129342                     B37 5JS      3  57.6   \n",
      "The Phoenix Collegiate - 136091                     B71 2BX      2  43.6   \n",
      "George Salter Academy - 135234                      B70 9UW      3  37.9   \n",
      "Park Hall Academy - 135971                          B36 9HF      3  39.6   \n",
      "John Henry Newman Catholic College - 136347         B37 5GA      3  38.8   \n",
      "The Streetly Academy - 137707                       B74 2EX      2  22.9   \n",
      "Plantsbrook School - 137053                         B72 1RB      3  18.2   \n",
      "Woodrush High School - 136924                       B47 5JW      3  20.1   \n",
      "Bishop Vesey's Grammar School - 137988              B74 2NH      4     9   \n",
      "Fairfax - 136908                                    B75 7JT      3  20.3   \n",
      "Tudor Grange Academy, Solihull - 136310             B91 3PD      4   6.9   \n",
      "Ormiston Forge Academy - 137673                     B64 6QU      3  41.2   \n",
      "Windsor High School and Sixth Form - 136618         B63 4BB      3  31.4   \n",
      "Colmers School and Sixth Form College - 103563      B45 9NY      3  44.9   \n",
      "The Arthur Terry School - 138136                    B74 4RZ      4  13.2   \n",
      "The Coleshill School - 136986                       B46 3EX      3  21.4   \n",
      "Waseley Hills High School - 138664                  B45 9EL      2  17.9   \n",
      "Arden - 136333                                      B93 0PT      4   9.2   \n",
      "\n",
      "                                                   PT_ratio absentees  \\\n",
      "Birmingham Ormiston Academy - 136944                   18.1      11.8   \n",
      "Heartlands Academy - 135907                            15.4       8.8   \n",
      "Aston Manor Academy - 136882                           13.3      15.2   \n",
      "Nishkam High School - 138586                           15.2       7.4   \n",
      "Ark St Alban's Academy - 135970                        13.4       7.9   \n",
      "King Edward VI Handsworth School - 137047              18.5       7.5   \n",
      "St Paul's School for Girls - 103531                    14.8       7.1   \n",
      "Broadway Academy - 139841                              15.7       5.1   \n",
      "Waverley School - 142219                               15.1        17   \n",
      "King Edward VI Handsworth Grammar School for Bo...     17.1       6.9   \n",
      "King Edward VI Handsworth Wood Girls' Academy -...     14.8        16   \n",
      "George Dixon Academy - 138695                          12.6      15.8   \n",
      "Holyhead School - 137034                               15.0      12.6   \n",
      "Washwood Heath Academy - 139888                        13.7      18.4   \n",
      "Shireland Collegiate Academy - 135170                  13.2      11.5   \n",
      "Lordswood Girls' School and Sixth Form Centre -...     13.7       8.3   \n",
      "Moseley School and Sixth Form - 103519                 16.8      17.8   \n",
      "Bishop Challoner Catholic College - 103560             13.8      11.2   \n",
      "North Birmingham Academy - 136032                      14.3      23.8   \n",
      "Sandwell Academy - 134993                              13.4       7.4   \n",
      "King Edward VI Camp Hill School for Girls - 137044     18.2       6.3   \n",
      "King Edward VI Camp Hill School for Boys - 137045      18.8       5.5   \n",
      "Swanshurst School - 103514                             15.0        13   \n",
      "Hamstead Hall Academy - 139746                         13.9      13.6   \n",
      "Holly Lodge High School College of Science - 10...     14.7      14.1   \n",
      "Fortis Academy - 143435                                16.1      25.4   \n",
      "Hillcrest School and Sixth Form Centre - 137346          13      11.4   \n",
      "Kings Norton Girls' School - 136590                    16.9       8.2   \n",
      "King Edward VI Sheldon Heath Academy - 136152          16.2        13   \n",
      "Q3 Academy Great Barr - 135449                         13.4       7.8   \n",
      "Greenwood Academy - 139048                             14.9      20.3   \n",
      "St Thomas Aquinas Catholic School - 141835             17.8        17   \n",
      "Sutton Coldfield Grammar School for Girls - 136778     18.9       6.6   \n",
      "Bishop Walsh Catholic School - 140524                  15.2      12.9   \n",
      "Holte School - 103509                                  13.1      11.8   \n",
      "King Edward VI Aston School - 137043                   17.6      11.7   \n",
      "Bordesley Green Girls' School & Sixth Form - 10...     14.4      12.4   \n",
      "King Edward VI Five Ways School - 137046               20.1       5.6   \n",
      "Grace Academy Solihull - 129342                        18.4      10.8   \n",
      "The Phoenix Collegiate - 136091                        16.5       6.8   \n",
      "George Salter Academy - 135234                         13.7      10.1   \n",
      "Park Hall Academy - 135971                             16.6      12.9   \n",
      "John Henry Newman Catholic College - 136347            14.8      15.5   \n",
      "The Streetly Academy - 137707                          16.1       8.9   \n",
      "Plantsbrook School - 137053                            16.5      11.8   \n",
      "Woodrush High School - 136924                          14.4       9.3   \n",
      "Bishop Vesey's Grammar School - 137988                 20.5       8.9   \n",
      "Fairfax - 136908                                       16.5      11.1   \n",
      "Tudor Grange Academy, Solihull - 136310                15.2       5.7   \n",
      "Ormiston Forge Academy - 137673                        16.0       9.9   \n",
      "Windsor High School and Sixth Form - 136618            15.7      12.4   \n",
      "Colmers School and Sixth Form College - 103563         17.4      23.7   \n",
      "The Arthur Terry School - 138136                       14.7         8   \n",
      "The Coleshill School - 136986                          19.2       7.3   \n",
      "Waseley Hills High School - 138664                     16.3      15.9   \n",
      "Arden - 136333                                         16.0       6.9   \n",
      "\n",
      "                                                   top_third Russell Oxbridge  \\\n",
      "Birmingham Ormiston Academy - 136944                       8       4        0   \n",
      "Heartlands Academy - 135907                                6       6        0   \n",
      "Aston Manor Academy - 136882                               5       5        0   \n",
      "Nishkam High School - 138586                              13       6        0   \n",
      "Ark St Alban's Academy - 135970                           10      10        0   \n",
      "King Edward VI Handsworth School - 137047                 65      58        6   \n",
      "St Paul's School for Girls - 103531                       23      22        0   \n",
      "Broadway Academy - 139841                                 11      11        0   \n",
      "Waverley School - 142219                                   5       5        0   \n",
      "King Edward VI Handsworth Grammar School for Bo...        38      32        1   \n",
      "King Edward VI Handsworth Wood Girls' Academy -...         0       0        0   \n",
      "George Dixon Academy - 138695                              5       5        0   \n",
      "Holyhead School - 137034                                  11      10        0   \n",
      "Washwood Heath Academy - 139888                            3       3        0   \n",
      "Shireland Collegiate Academy - 135170                      3       3        0   \n",
      "Lordswood Girls' School and Sixth Form Centre -...        16      12        0   \n",
      "Moseley School and Sixth Form - 103519                    12      12        0   \n",
      "Bishop Challoner Catholic College - 103560                27      24        1   \n",
      "North Birmingham Academy - 136032                          7       5        0   \n",
      "Sandwell Academy - 134993                                 14      12        0   \n",
      "King Edward VI Camp Hill School for Girls - 137044        80      70        4   \n",
      "King Edward VI Camp Hill School for Boys - 137045         83      75        9   \n",
      "Swanshurst School - 103514                                 9       7        0   \n",
      "Hamstead Hall Academy - 139746                            12       9        0   \n",
      "Holly Lodge High School College of Science - 10...         6       6        0   \n",
      "Fortis Academy - 143435                                    5       5        0   \n",
      "Hillcrest School and Sixth Form Centre - 137346           15      15        0   \n",
      "Kings Norton Girls' School - 136590                       26      23        1   \n",
      "King Edward VI Sheldon Heath Academy - 136152             13      12        0   \n",
      "Q3 Academy Great Barr - 135449                             5       5        0   \n",
      "Greenwood Academy - 139048                                 6       6        0   \n",
      "St Thomas Aquinas Catholic School - 141835                22      21        0   \n",
      "Sutton Coldfield Grammar School for Girls - 136778        67      54        2   \n",
      "Bishop Walsh Catholic School - 140524                     22      18        0   \n",
      "Holte School - 103509                                      9       9        0   \n",
      "King Edward VI Aston School - 137043                      59      53        2   \n",
      "Bordesley Green Girls' School & Sixth Form - 10...         9       9        0   \n",
      "King Edward VI Five Ways School - 137046                  71      60        5   \n",
      "Grace Academy Solihull - 129342                            4       4        0   \n",
      "The Phoenix Collegiate - 136091                            7       5        0   \n",
      "George Salter Academy - 135234                            12      10        0   \n",
      "Park Hall Academy - 135971                                 2       2        0   \n",
      "John Henry Newman Catholic College - 136347               10       7        0   \n",
      "The Streetly Academy - 137707                             15      12        0   \n",
      "Plantsbrook School - 137053                              111     100        7   \n",
      "Woodrush High School - 136924                              5       2        0   \n",
      "Bishop Vesey's Grammar School - 137988                    79      67        5   \n",
      "Fairfax - 136908                                          26      21        0   \n",
      "Tudor Grange Academy, Solihull - 136310                   42      33        2   \n",
      "Ormiston Forge Academy - 137673                            5       4        0   \n",
      "Windsor High School and Sixth Form - 136618               13      11        0   \n",
      "Colmers School and Sixth Form College - 103563             0       0        0   \n",
      "The Arthur Terry School - 138136                          25      17        0   \n",
      "The Coleshill School - 136986                             12      10        0   \n",
      "Waseley Hills High School - 138664                        23      21        0   \n",
      "Arden - 136333                                            41      29        0   \n",
      "\n",
      "                                                   GCSE best_3Alevels  \\\n",
      "Birmingham Ormiston Academy - 136944                 58         11.67   \n",
      "Heartlands Academy - 135907                          71         25.15   \n",
      "Aston Manor Academy - 136882                         41         28.21   \n",
      "Nishkam High School - 138586                         60         30.98   \n",
      "Ark St Alban's Academy - 135970                      44         32.63   \n",
      "King Edward VI Handsworth School - 137047            99         38.46   \n",
      "St Paul's School for Girls - 103531                  71         35.79   \n",
      "Broadway Academy - 139841                            33         26.26   \n",
      "Waverley School - 142219                             37         25.18   \n",
      "King Edward VI Handsworth Grammar School for Bo...   93         32.64   \n",
      "King Edward VI Handsworth Wood Girls' Academy -...   37         22.04   \n",
      "George Dixon Academy - 138695                        28         31.85   \n",
      "Holyhead School - 137034                             27         24.34   \n",
      "Washwood Heath Academy - 139888                      32         25.76   \n",
      "Shireland Collegiate Academy - 135170                34         27.61   \n",
      "Lordswood Girls' School and Sixth Form Centre -...   49         28.81   \n",
      "Moseley School and Sixth Form - 103519               33         35.78   \n",
      "Bishop Challoner Catholic College - 103560           61         31.14   \n",
      "North Birmingham Academy - 136032                    41         22.00   \n",
      "Sandwell Academy - 134993                            35         33.74   \n",
      "King Edward VI Camp Hill School for Girls - 137044   99         44.85   \n",
      "King Edward VI Camp Hill School for Boys - 137045    98         46.79   \n",
      "Swanshurst School - 103514                           40         33.27   \n",
      "Hamstead Hall Academy - 139746                       39         23.80   \n",
      "Holly Lodge High School College of Science - 10...   21         31.41   \n",
      "Fortis Academy - 143435                              23         28.05   \n",
      "Hillcrest School and Sixth Form Centre - 137346      44         33.33   \n",
      "Kings Norton Girls' School - 136590                  59         38.57   \n",
      "King Edward VI Sheldon Heath Academy - 136152        43         34.39   \n",
      "Q3 Academy Great Barr - 135449                       47         28.13   \n",
      "Greenwood Academy - 139048                           28         26.41   \n",
      "St Thomas Aquinas Catholic School - 141835           43         31.96   \n",
      "Sutton Coldfield Grammar School for Girls - 136778   99         42.76   \n",
      "Bishop Walsh Catholic School - 140524                57         32.41   \n",
      "Holte School - 103509                                18         22.00   \n",
      "King Edward VI Aston School - 137043                 97         35.93   \n",
      "Bordesley Green Girls' School & Sixth Form - 10...   41         29.33   \n",
      "King Edward VI Five Ways School - 137046             97         41.52   \n",
      "Grace Academy Solihull - 129342                      45         27.69   \n",
      "The Phoenix Collegiate - 136091                      28         26.17   \n",
      "George Salter Academy - 135234                       36         25.45   \n",
      "Park Hall Academy - 135971                           39         29.24   \n",
      "John Henry Newman Catholic College - 136347          42         23.33   \n",
      "The Streetly Academy - 137707                        43         33.59   \n",
      "Plantsbrook School - 137053                          53         33.84   \n",
      "Woodrush High School - 136924                        44         28.82   \n",
      "Bishop Vesey's Grammar School - 137988               98         42.46   \n",
      "Fairfax - 136908                                     50         30.04   \n",
      "Tudor Grange Academy, Solihull - 136310              76         37.37   \n",
      "Ormiston Forge Academy - 137673                      33         28.92   \n",
      "Windsor High School and Sixth Form - 136618          42         31.67   \n",
      "Colmers School and Sixth Form College - 103563       20         32.00   \n",
      "The Arthur Terry School - 138136                     61         30.30   \n",
      "The Coleshill School - 136986                        52         26.90   \n",
      "Waseley Hills High School - 138664                   38         28.33   \n",
      "Arden - 136333                                       67         34.54   \n",
      "\n",
      "                                                   ratio_AAB   PC  \n",
      "Birmingham Ormiston Academy - 136944                     0.0   47  \n",
      "Heartlands Academy - 135907                              0.0   74  \n",
      "Aston Manor Academy - 136882                             7.7   64  \n",
      "Nishkam High School - 138586                             5.9  192  \n",
      "Ark St Alban's Academy - 135970                          3.0  120  \n",
      "King Edward VI Handsworth School - 137047               25.9  219  \n",
      "St Paul's School for Girls - 103531                      8.2  169  \n",
      "Broadway Academy - 139841                                6.1  203  \n",
      "Waverley School - 142219                                 4.3   95  \n",
      "King Edward VI Handsworth Grammar School for Bo...      17.3  219  \n",
      "King Edward VI Handsworth Wood Girls' Academy -...       0.0  202  \n",
      "George Dixon Academy - 138695                            8.3  169  \n",
      "Holyhead School - 137034                                 1.9  210  \n",
      "Washwood Heath Academy - 139888                          0.0   82  \n",
      "Shireland Collegiate Academy - 135170                    8.7  664  \n",
      "Lordswood Girls' School and Sixth Form Centre -...       4.4  178  \n",
      "Moseley School and Sixth Form - 103519                  10.0  139  \n",
      "Bishop Challoner Catholic College - 103560               8.8  147  \n",
      "North Birmingham Academy - 136032                        5.0  440  \n",
      "Sandwell Academy - 134993                               12.2  714  \n",
      "King Edward VI Camp Hill School for Girls - 137044      46.3  147  \n",
      "King Edward VI Camp Hill School for Boys - 137045       60.7  147  \n",
      "Swanshurst School - 103514                               1.8  130  \n",
      "Hamstead Hall Academy - 139746                           4.0  201  \n",
      "Holly Lodge High School College of Science - 10...       7.7  677  \n",
      "Fortis Academy - 143435                                  7.3  448  \n",
      "Hillcrest School and Sixth Form Centre - 137346          9.1  323  \n",
      "Kings Norton Girls' School - 136590                     14.9  301  \n",
      "King Edward VI Sheldon Heath Academy - 136152           10.5  262  \n",
      "Q3 Academy Great Barr - 135449                           0.0  437  \n",
      "Greenwood Academy - 139048                               0.0  357  \n",
      "St Thomas Aquinas Catholic School - 141835              10.9  388  \n",
      "Sutton Coldfield Grammar School for Girls - 136778      39.8  735  \n",
      "Bishop Walsh Catholic School - 140524                   10.3  761  \n",
      "Holte School - 103509                                    4.0  192  \n",
      "King Edward VI Aston School - 137043                    28.2   66  \n",
      "Bordesley Green Girls' School & Sixth Form - 10...       2.2   94  \n",
      "King Edward VI Five Ways School - 137046                40.2  324  \n",
      "Grace Academy Solihull - 129342                          7.7  375  \n",
      "The Phoenix Collegiate - 136091                          1.9  712  \n",
      "George Salter Academy - 135234                           0.0  709  \n",
      "Park Hall Academy - 135971                               0.0  369  \n",
      "John Henry Newman Catholic College - 136347             15.4  375  \n",
      "The Streetly Academy - 137707                            7.8  742  \n",
      "Plantsbrook School - 137053                              5.1  721  \n",
      "Woodrush High School - 136924                            5.9  475  \n",
      "Bishop Vesey's Grammar School - 137988                  42.1  742  \n",
      "Fairfax - 136908                                         6.7  757  \n",
      "Tudor Grange Academy, Solihull - 136310                 16.2  913  \n",
      "Ormiston Forge Academy - 137673                          7.5  646  \n",
      "Windsor High School and Sixth Form - 136618              9.1  634  \n",
      "Colmers School and Sixth Form College - 103563          13.3  459  \n",
      "The Arthur Terry School - 138136                         3.7  744  \n",
      "The Coleshill School - 136986                            9.3  463  \n",
      "Waseley Hills High School - 138664                       7.7  459  \n",
      "Arden - 136333                                          14.2  930  \n"
     ]
    }
   ],
   "source": [
    "#Removing rows from column 'postcode' which do not start with 'B'\n",
    "school_info = school_info.loc[school_info['postcode'].str.startswith('B')].copy()\n",
    "\n",
    "#Creating a new column 'PC' copying column 'postcode'\n",
    "school_info['PC'] = school_info['postcode']\n",
    "school_info['PC'] = school_info['PC'].str.replace(r'[A-Z]','', regex=True)\n",
    "school_info['PC'] = school_info['PC'].str.replace(r'[\\s]','', regex=True)\n",
    "school_info['PC'] = school_info['PC'].astype(int)\n",
    "\n",
    "#Printing rows and columns after operations\n",
    "rows, cols = school_info.shape\n",
    "print('The dataframe contains {} rows &  {} columns'.format(rows, cols))\n",
    "print(school_info)"
   ]
  },
  {
   "cell_type": "markdown",
   "metadata": {},
   "source": [
    "# Q2(d)\n",
    "Create a data frame called ’Full’ containing ’PC’, ’Ofsted’, ’FSM’, ’PT_ratio’, ’absentees’, ’top_third’, ’Russell’, ’Oxbridge’, ’GCSE’, ’best_3Alevels’ and ’AAB’ which are the mean values for all the schools with the same value of ’PC’. Ensure all numbers are floating point numbers. (3 marks) "
   ]
  },
  {
   "cell_type": "code",
   "execution_count": 36,
   "metadata": {},
   "outputs": [
    {
     "name": "stdout",
     "output_type": "stream",
     "text": [
      "The dataframe contains 48 rows &  10 columns\n",
      "         Ofsted        FSM   PT_ratio  absentees   top_third     Russell  \\\n",
      "PC                                                                         \n",
      "47.0   3.000000  13.000000  18.100000  11.800000    8.000000    4.000000   \n",
      "64.0   4.000000  70.000000  13.300000  15.200000    5.000000    5.000000   \n",
      "66.0   4.000000  27.200000  17.600000  11.700000   59.000000   53.000000   \n",
      "74.0   4.000000  71.700000  15.400000   8.800000    6.000000    6.000000   \n",
      "82.0   3.000000  58.300000  13.700000  18.400000    3.000000    3.000000   \n",
      "94.0   3.000000  53.000000  14.400000  12.400000    9.000000    9.000000   \n",
      "95.0   3.000000  50.300000  15.100000  17.000000    5.000000    5.000000   \n",
      "120.0  2.000000  74.200000  13.400000   7.900000   10.000000   10.000000   \n",
      "130.0  4.000000  52.100000  15.000000  13.000000    9.000000    7.000000   \n",
      "139.0  3.000000  52.100000  16.800000  17.800000   12.000000   12.000000   \n",
      "147.0  3.666667  21.266667  16.933333   7.666667   63.333333   56.333333   \n",
      "169.0  3.500000  48.750000  13.700000  11.450000   14.000000   13.500000   \n",
      "178.0  2.000000  28.500000  13.700000   8.300000   16.000000   12.000000   \n",
      "192.0  3.000000  51.150000  14.150000   9.600000   11.000000    7.500000   \n",
      "201.0  3.000000  40.200000  13.900000  13.600000   12.000000    9.000000   \n",
      "202.0  4.000000  58.800000  14.800000  16.000000    0.000000    0.000000   \n",
      "203.0  3.000000  59.300000  15.700000   5.100000   11.000000   11.000000   \n",
      "210.0  3.000000  62.800000  15.000000  12.600000   11.000000   10.000000   \n",
      "219.0  4.000000  17.900000  17.800000   7.200000   51.500000   45.000000   \n",
      "262.0  3.000000  50.700000  16.200000  13.000000   13.000000   12.000000   \n",
      "301.0  4.000000  27.000000  16.900000   8.200000   26.000000   23.000000   \n",
      "323.0  3.000000  55.800000  13.000000  11.400000   15.000000   15.000000   \n",
      "324.0  4.000000  17.200000  20.100000   5.600000   71.000000   60.000000   \n",
      "357.0  3.000000  55.800000  14.900000  20.300000    6.000000    6.000000   \n",
      "369.0  3.000000  39.600000  16.600000  12.900000    2.000000    2.000000   \n",
      "375.0  3.000000  48.200000  16.600000  13.150000    7.000000    5.500000   \n",
      "388.0  3.000000  45.500000  17.800000  17.000000   22.000000   21.000000   \n",
      "437.0  3.000000  21.100000  13.400000   7.800000    5.000000    5.000000   \n",
      "440.0  3.000000  67.600000  14.300000  23.800000    7.000000    5.000000   \n",
      "448.0  2.000000  51.200000  16.100000  25.400000    5.000000    5.000000   \n",
      "459.0  2.500000  31.400000  16.850000  19.800000   11.500000   10.500000   \n",
      "463.0  3.000000  21.400000  19.200000   7.300000   12.000000   10.000000   \n",
      "475.0  3.000000  20.100000  14.400000   9.300000    5.000000    2.000000   \n",
      "634.0  3.000000  31.400000  15.700000  12.400000   13.000000   11.000000   \n",
      "646.0  3.000000  41.200000  16.000000   9.900000    5.000000    4.000000   \n",
      "664.0  4.000000  48.600000  13.200000  11.500000    3.000000    3.000000   \n",
      "677.0  3.000000  41.500000  14.700000  14.100000    6.000000    6.000000   \n",
      "709.0  3.000000  37.900000  13.700000  10.100000   12.000000   10.000000   \n",
      "712.0  2.000000  43.600000  16.500000   6.800000    7.000000    5.000000   \n",
      "714.0  4.000000  25.600000  13.400000   7.400000   14.000000   12.000000   \n",
      "721.0  3.000000  18.200000  16.500000  11.800000  111.000000  100.000000   \n",
      "735.0  4.000000   6.200000  18.900000   6.600000   67.000000   54.000000   \n",
      "742.0  3.000000  15.950000  18.300000   8.900000   47.000000   39.500000   \n",
      "744.0  4.000000  13.200000  14.700000   8.000000   25.000000   17.000000   \n",
      "757.0  3.000000  20.300000  16.500000  11.100000   26.000000   21.000000   \n",
      "761.0  3.000000  12.600000  15.200000  12.900000   22.000000   18.000000   \n",
      "913.0  4.000000   6.900000  15.200000   5.700000   42.000000   33.000000   \n",
      "930.0  4.000000   9.200000  16.000000   6.900000   41.000000   29.000000   \n",
      "\n",
      "       Oxbridge  GCSE  best_3Alevels  ratio_AAB  \n",
      "PC                                               \n",
      "47.0   0.000000  58.0      11.670000       0.00  \n",
      "64.0   0.000000  41.0      28.210000       7.70  \n",
      "66.0   2.000000  97.0      35.930000      28.20  \n",
      "74.0   0.000000  71.0      25.150000       0.00  \n",
      "82.0   0.000000  32.0      25.760000       0.00  \n",
      "94.0   0.000000  41.0      29.330000       2.20  \n",
      "95.0   0.000000  37.0      25.180000       4.30  \n",
      "120.0  0.000000  44.0      32.630000       3.00  \n",
      "130.0  0.000000  40.0      33.270000       1.80  \n",
      "139.0  0.000000  33.0      35.780000      10.00  \n",
      "147.0  4.666667  86.0      40.926667      38.60  \n",
      "169.0  0.000000  49.5      33.820000       8.25  \n",
      "178.0  0.000000  49.0      28.810000       4.40  \n",
      "192.0  0.000000  39.0      26.490000       4.95  \n",
      "201.0  0.000000  39.0      23.800000       4.00  \n",
      "202.0  0.000000  37.0      22.040000       0.00  \n",
      "203.0  0.000000  33.0      26.260000       6.10  \n",
      "210.0  0.000000  27.0      24.340000       1.90  \n",
      "219.0  3.500000  96.0      35.550000      21.60  \n",
      "262.0  0.000000  43.0      34.390000      10.50  \n",
      "301.0  1.000000  59.0      38.570000      14.90  \n",
      "323.0  0.000000  44.0      33.330000       9.10  \n",
      "324.0  5.000000  97.0      41.520000      40.20  \n",
      "357.0  0.000000  28.0      26.410000       0.00  \n",
      "369.0  0.000000  39.0      29.240000       0.00  \n",
      "375.0  0.000000  43.5      25.510000      11.55  \n",
      "388.0  0.000000  43.0      31.960000      10.90  \n",
      "437.0  0.000000  47.0      28.130000       0.00  \n",
      "440.0  0.000000  41.0      22.000000       5.00  \n",
      "448.0  0.000000  23.0      28.050000       7.30  \n",
      "459.0  0.000000  29.0      30.165000      10.50  \n",
      "463.0  0.000000  52.0      26.900000       9.30  \n",
      "475.0  0.000000  44.0      28.820000       5.90  \n",
      "634.0  0.000000  42.0      31.670000       9.10  \n",
      "646.0  0.000000  33.0      28.920000       7.50  \n",
      "664.0  0.000000  34.0      27.610000       8.70  \n",
      "677.0  0.000000  21.0      31.410000       7.70  \n",
      "709.0  0.000000  36.0      25.450000       0.00  \n",
      "712.0  0.000000  28.0      26.170000       1.90  \n",
      "714.0  0.000000  35.0      33.740000      12.20  \n",
      "721.0  7.000000  53.0      33.840000       5.10  \n",
      "735.0  2.000000  99.0      42.760000      39.80  \n",
      "742.0  2.500000  70.5      38.025000      24.95  \n",
      "744.0  0.000000  61.0      30.300000       3.70  \n",
      "757.0  0.000000  50.0      30.040000       6.70  \n",
      "761.0  0.000000  57.0      32.410000      10.30  \n",
      "913.0  2.000000  76.0      37.370000      16.20  \n",
      "930.0  0.000000  67.0      34.540000      14.20  \n"
     ]
    }
   ],
   "source": [
    "#Creating a new dataframe 'Full' excluding 'postcode' column\n",
    "Full = school_info.drop('postcode', axis=1).astype('float')\n",
    "\n",
    "#Grouping records to get mean for batches of individual PC\n",
    "Full = Full.groupby(by='PC').mean()\n",
    "\n",
    "#Printing rows and columns after operations\n",
    "rows, cols = Full.shape\n",
    "print('The dataframe contains {} rows &  {} columns'.format(rows, cols))\n",
    "print(Full)"
   ]
  },
  {
   "cell_type": "markdown",
   "metadata": {},
   "source": [
    "# Q2(e)\n",
    "Obtain the pairwise correlation of the Full data frame and discuss any key results. (2 marks)"
   ]
  },
  {
   "cell_type": "code",
   "execution_count": 37,
   "metadata": {},
   "outputs": [
    {
     "name": "stdout",
     "output_type": "stream",
     "text": [
      "                 Ofsted       FSM  PT_ratio  absentees  top_third   Russell  \\\n",
      "Ofsted         1.000000 -0.246143  0.118802  -0.315328   0.332270  0.311024   \n",
      "FSM           -0.246143  1.000000 -0.480170   0.482344  -0.590286 -0.540213   \n",
      "PT_ratio       0.118802 -0.480170  1.000000  -0.163546   0.521794  0.509912   \n",
      "absentees     -0.315328  0.482344 -0.163546   1.000000  -0.366482 -0.334907   \n",
      "top_third      0.332270 -0.590286  0.521794  -0.366482   1.000000  0.995430   \n",
      "Russell        0.311024 -0.540213  0.509912  -0.334907   0.995430  1.000000   \n",
      "Oxbridge       0.282838 -0.448496  0.481685  -0.295811   0.917396  0.930796   \n",
      "GCSE           0.556095 -0.588308  0.544493  -0.524169   0.736738  0.708291   \n",
      "best_3Alevels  0.354412 -0.410709  0.332144  -0.365340   0.648879  0.649654   \n",
      "ratio_AAB      0.416530 -0.502501  0.604934  -0.339994   0.700754  0.686578   \n",
      "\n",
      "               Oxbridge      GCSE  best_3Alevels  ratio_AAB  \n",
      "Ofsted         0.282838  0.556095       0.354412   0.416530  \n",
      "FSM           -0.448496 -0.588308      -0.410709  -0.502501  \n",
      "PT_ratio       0.481685  0.544493       0.332144   0.604934  \n",
      "absentees     -0.295811 -0.524169      -0.365340  -0.339994  \n",
      "top_third      0.917396  0.736738       0.648879   0.700754  \n",
      "Russell        0.930796  0.708291       0.649654   0.686578  \n",
      "Oxbridge       1.000000  0.640857       0.551602   0.637668  \n",
      "GCSE           0.640857  1.000000       0.568996   0.770796  \n",
      "best_3Alevels  0.551602  0.568996       1.000000   0.765238  \n",
      "ratio_AAB      0.637668  0.770796       0.765238   1.000000  \n"
     ]
    }
   ],
   "source": [
    "#Pairwise correlation of the dataframe\n",
    "print(Full.corr())"
   ]
  },
  {
   "cell_type": "markdown",
   "metadata": {},
   "source": [
    "##### Pairwise correlation helps us to understand the significance of one particular column with respect to the other columns. If one or more columns are highly correlated to each other this means that they have all of them would not add much significance to the dataset and could avoid some them inorder to reduce the complexity of the dataset.\n",
    "##### In the above correlation plot for Full dataframe, we can see that columns Russell, top_third are highly correlated to Oxbridge having corr values 0.93 & 0.917 respectively, when Oxbridge is 1.0.\n",
    "##### Similarly, columns ratio_AAB are also has high correlation value 0.7708 with respect to GCSE, when GCSE is 1.0.\n",
    "##### This shows that for each of these group of variables, taking one each from them would be enough for the dataset and reduce the complexity. Having all these columns together doesn't add value to the analysis and would make it more complex."
   ]
  },
  {
   "cell_type": "markdown",
   "metadata": {},
   "source": [
    "# Q2(f)\n",
    "Create a single data frame including ‘PC’, ‘normalised price’ from task 1\n",
    "and the rest of the measures of performance in the data frame Full. Perform\n",
    "any statistical analysis you wish. Create appropriate graphs using R to\n",
    "illustrate your statistical analysis. Use an appropriate regression model\n",
    "from sklearn to predict the ‘normalised price’ using ‘PC’ and the other\n",
    "variables in your data frame. Test your model using the test data set.\n",
    "Discuss your results. (10 marks)"
   ]
  },
  {
   "cell_type": "markdown",
   "metadata": {},
   "source": [
    "##### Combining the dataframes Full and prop_data_pc_norm from question 1f, which was used to find mean normalized price paid by individual PC.\n",
    "##### Combining both the dataframes on the basis of PC column and keeping only those PC values which are common to both the dataframes.\n",
    "##### After combining them into one dataframe, exporting them to a csv file which can be used to plot graphs for statistical analysis in R."
   ]
  },
  {
   "cell_type": "code",
   "execution_count": 38,
   "metadata": {},
   "outputs": [
    {
     "name": "stdout",
     "output_type": "stream",
     "text": [
      "       PC    Ofsted        FSM   PT_ratio  absentees  top_third    Russell  \\\n",
      "0    47.0  3.000000  13.000000  18.100000  11.800000   8.000000   4.000000   \n",
      "1    66.0  4.000000  27.200000  17.600000  11.700000  59.000000  53.000000   \n",
      "2    74.0  4.000000  71.700000  15.400000   8.800000   6.000000   6.000000   \n",
      "3    82.0  3.000000  58.300000  13.700000  18.400000   3.000000   3.000000   \n",
      "4    94.0  3.000000  53.000000  14.400000  12.400000   9.000000   9.000000   \n",
      "5    95.0  3.000000  50.300000  15.100000  17.000000   5.000000   5.000000   \n",
      "6   120.0  2.000000  74.200000  13.400000   7.900000  10.000000  10.000000   \n",
      "7   130.0  4.000000  52.100000  15.000000  13.000000   9.000000   7.000000   \n",
      "8   139.0  3.000000  52.100000  16.800000  17.800000  12.000000  12.000000   \n",
      "9   147.0  3.666667  21.266667  16.933333   7.666667  63.333333  56.333333   \n",
      "10  169.0  3.500000  48.750000  13.700000  11.450000  14.000000  13.500000   \n",
      "11  178.0  2.000000  28.500000  13.700000   8.300000  16.000000  12.000000   \n",
      "12  192.0  3.000000  51.150000  14.150000   9.600000  11.000000   7.500000   \n",
      "13  201.0  3.000000  40.200000  13.900000  13.600000  12.000000   9.000000   \n",
      "14  202.0  4.000000  58.800000  14.800000  16.000000   0.000000   0.000000   \n",
      "15  203.0  3.000000  59.300000  15.700000   5.100000  11.000000  11.000000   \n",
      "16  210.0  3.000000  62.800000  15.000000  12.600000  11.000000  10.000000   \n",
      "17  219.0  4.000000  17.900000  17.800000   7.200000  51.500000  45.000000   \n",
      "18  262.0  3.000000  50.700000  16.200000  13.000000  13.000000  12.000000   \n",
      "19  301.0  4.000000  27.000000  16.900000   8.200000  26.000000  23.000000   \n",
      "20  323.0  3.000000  55.800000  13.000000  11.400000  15.000000  15.000000   \n",
      "21  324.0  4.000000  17.200000  20.100000   5.600000  71.000000  60.000000   \n",
      "22  357.0  3.000000  55.800000  14.900000  20.300000   6.000000   6.000000   \n",
      "23  369.0  3.000000  39.600000  16.600000  12.900000   2.000000   2.000000   \n",
      "24  375.0  3.000000  48.200000  16.600000  13.150000   7.000000   5.500000   \n",
      "25  388.0  3.000000  45.500000  17.800000  17.000000  22.000000  21.000000   \n",
      "26  437.0  3.000000  21.100000  13.400000   7.800000   5.000000   5.000000   \n",
      "27  440.0  3.000000  67.600000  14.300000  23.800000   7.000000   5.000000   \n",
      "28  448.0  2.000000  51.200000  16.100000  25.400000   5.000000   5.000000   \n",
      "29  459.0  2.500000  31.400000  16.850000  19.800000  11.500000  10.500000   \n",
      "30  463.0  3.000000  21.400000  19.200000   7.300000  12.000000  10.000000   \n",
      "31  475.0  3.000000  20.100000  14.400000   9.300000   5.000000   2.000000   \n",
      "\n",
      "    Oxbridge  GCSE  best_3Alevels  ratio_AAB  normalised_price  \n",
      "0   0.000000  58.0      11.670000       0.00          0.840642  \n",
      "1   2.000000  97.0      35.930000      28.20          0.143042  \n",
      "2   0.000000  71.0      25.150000       0.00          0.117770  \n",
      "3   0.000000  32.0      25.760000       0.00          0.127382  \n",
      "4   0.000000  41.0      29.330000       2.20          0.061660  \n",
      "5   0.000000  37.0      25.180000       4.30         -0.024004  \n",
      "6   0.000000  44.0      32.630000       3.00          0.532910  \n",
      "7   0.000000  40.0      33.270000       1.80          0.388636  \n",
      "8   0.000000  33.0      35.780000      10.00          0.716035  \n",
      "9   4.666667  86.0      40.926667      38.60          0.449681  \n",
      "10  0.000000  49.5      33.820000       8.25          0.600478  \n",
      "11  0.000000  49.0      28.810000       4.40          1.019601  \n",
      "12  0.000000  39.0      26.490000       4.95          0.083952  \n",
      "13  0.000000  39.0      23.800000       4.00          0.257725  \n",
      "14  0.000000  37.0      22.040000       0.00          0.281909  \n",
      "15  0.000000  33.0      26.260000       6.10          0.205909  \n",
      "16  0.000000  27.0      24.340000       1.90          0.149248  \n",
      "17  3.500000  96.0      35.550000      21.60          0.086971  \n",
      "18  0.000000  43.0      34.390000      10.50          0.143170  \n",
      "19  1.000000  59.0      38.570000      14.90          0.529950  \n",
      "20  0.000000  44.0      33.330000       9.10          0.181447  \n",
      "21  5.000000  97.0      41.520000      40.20          0.090536  \n",
      "22  0.000000  28.0      26.410000       0.00         -0.015506  \n",
      "23  0.000000  39.0      29.240000       0.00          0.302112  \n",
      "24  0.000000  43.5      25.510000      11.55          0.266059  \n",
      "25  0.000000  43.0      31.960000      10.90          0.540204  \n",
      "26  0.000000  47.0      28.130000       0.00          0.253682  \n",
      "27  0.000000  41.0      22.000000       5.00         -0.063585  \n",
      "28  0.000000  23.0      28.050000       7.30          0.050129  \n",
      "29  0.000000  29.0      30.165000      10.50          0.311857  \n",
      "30  0.000000  52.0      26.900000       9.30          0.521727  \n",
      "31  0.000000  44.0      28.820000       5.90          0.458419  \n"
     ]
    }
   ],
   "source": [
    "#Making a list of 'PC' values from 'Full' dataframe, \n",
    "#so that only those values can be taken from Task 1 'prop_data_pc_norm' dataframe, for ease of merging.\n",
    "required_PC = Full.index.astype(int)\n",
    "prop_data_pc_norm = prop_data_pc_norm[prop_data_pc_norm['PC'].isin(required_PC)]\n",
    "\n",
    "#Merging the dataframes on column 'PC' which is common to both\n",
    "combined_full_prop_data_df = pd.merge(Full, prop_data_pc_norm, on ='PC')\n",
    "print(combined_full_prop_data_df)\n",
    "\n",
    "#Creating a csv file to read this file in R for further evaluation\n",
    "combined_full_prop_data_df.to_csv('2f_data.csv',index=False)"
   ]
  },
  {
   "cell_type": "markdown",
   "metadata": {},
   "source": [
    "##### Linear regression from sklearn has been used to perform regression of this combined data frame, the code used is the same which has been used to code for question 1g, just the dataframe used is the 'combined_full_prop_data_df'"
   ]
  },
  {
   "cell_type": "code",
   "execution_count": 39,
   "metadata": {},
   "outputs": [
    {
     "name": "stdout",
     "output_type": "stream",
     "text": [
      "Prediction Price Values : [-5.06761639e-03 -2.06244296e-03 -5.34646002e-03  1.74070413e-04\n",
      "  2.52464547e-03 -1.89117513e-05  2.05880479e-03]\n",
      "Test Price Values : [0.01047962 0.00130582 0.00091152 0.00111482 0.00040864 0.0005749\n",
      " 0.00025391]\n",
      "Training error : 4.30281192647375e-05\n"
     ]
    }
   ],
   "source": [
    "#Importing sklearn libraries\n",
    "import sklearn.metrics as metrics\n",
    "from sklearn.preprocessing import normalize\n",
    "from sklearn.linear_model import LinearRegression\n",
    "from sklearn.model_selection import train_test_split\n",
    "\n",
    "#Normalizing data before regression using sklearn\n",
    "norm_combined_full_prop_data_df = normalize(combined_full_prop_data_df)\n",
    "\n",
    "#Creating training data segregating the data to features and price set\n",
    "features_set = norm_combined_full_prop_data_df[:,0:10]\n",
    "price_set = norm_combined_full_prop_data_df[:,11]\n",
    "\n",
    "#Splitting the data train & test in the ratio of 80:20 respectively.\n",
    "comb_df_ft_train, comb_df_ft_test, comb_df_pr_train, comb_df_pr_test = train_test_split(features_set, \n",
    "                                                                                        price_set, test_size = 0.20)\n",
    "\n",
    "#Using sklearn class linear regression to regress the data\n",
    "comb_regress = LinearRegression()\n",
    "comb_regress.fit(comb_df_ft_train, comb_df_pr_train)\n",
    "\n",
    "#Storing prediction of price data to compare later on\n",
    "pred_price = comb_regress.predict(comb_df_ft_test)\n",
    "\n",
    "#Printing the values to compare\n",
    "print(\"Prediction Price Values : {}\".format(pred_price))\n",
    "print(\"Test Price Values : {}\".format(comb_df_pr_test))\n",
    "\n",
    "#Testing error metrics\n",
    "error_val = metrics.mean_squared_error(comb_df_pr_test, pred_price)\n",
    "print(\"Training error : {}\".format(error_val))"
   ]
  },
  {
   "cell_type": "markdown",
   "metadata": {},
   "source": [
    "##### The regression model used here is Linear Regression from the sklearn library. Inorder to get an optimized result with minimal training error firstly we normalized the data using sklearn normalize method.\n",
    "\n",
    "##### The training error was found to be 0.00000392381, which shows that our model almost perfectly fits the data. The linear regression model has been successful trained to predict the price paid values on the basis of the input features of the data.\n",
    "\n",
    "##### The training error metric was calculated using the mean squared error between the test and the predicted price."
   ]
  },
  {
   "cell_type": "markdown",
   "metadata": {},
   "source": [
    "<h1><center>REFERENCES</center></h1>\n",
    "\n",
    "1. Intro to pandas: How to add, rename, and remove columns in Pandas Edlitera. \n",
    "    Available at: https://www.edlitera.com/en/blog/posts/pandas-add-rename-remove-columns (Accessed: January 3, 2023). \n",
    "    Reference for question 1b.\n",
    "2. Scikit-learn tutorial: How to implement linear regression Educative. Available at: https://www.educative.io/blog/scikit-learn-tutorial-linear-regression (Accessed: January 5, 2023). Reference for question 1g.\n",
    "3. Machine learning with pytorch (no date) Multi Variable Regression - Machine Learning with PyTorch. Available at: https://donaldpinckney.com/books/pytorch/book/ch2-linreg/2018-03-21-multi-variable.html (Accessed: January 9, 2023). Reference for question 1h.\n",
    "4. Linear regression using pytorch (2021) GeeksforGeeks. GeeksforGeeks. Available at: https://www.geeksforgeeks.org/linear-regression-using-pytorch/ (Accessed: January 9, 2023). Reference for question 1h.\n",
    "5. Brownlee, J. (2020) Pytorch tutorial: How to develop Deep Learning models with python, MachineLearningMastery.com. Available at: https://machinelearningmastery.com/pytorch-tutorial-develop-deep-learning-models/ (Accessed: January 11, 2023). Reference for question 1i.\n",
    "6. Radečić, D. (2021) How to make stunning histograms in R: A complete guide with ggplot2: R-bloggers, R. Available at: https://www.r-bloggers.com/2021/11/how-to-make-stunning-histograms-in-r-a-complete-guide-with-ggplot2/#google_vignette (Accessed: January 16, 2023). Reference for question 2f.\n",
    "7. Correlation analyses in R STHDA. Available at: http://www.sthda.com/english/wiki/correlation-analyses-in-r (Accessed: January 17, 2023). Reference for question 2f.\n",
    "8. Taiyun Wei, V.S. (2021) An introduction to corrplot package. Available at: https://cran.r-project.org/web/packages/corrplot/vignettes/corrplot-intro.html (Accessed: January 17, 2023). Reference for 2f.\n",
    "9. Correlation analyses in R (no date) STHDA. Available at: http://www.sthda.com/english/wiki/correlation-analyses-in-r (Accessed: January 17, 2023)."
   ]
  }
 ],
 "metadata": {
  "kernelspec": {
   "display_name": "Python 3 (ipykernel)",
   "language": "python",
   "name": "python3"
  },
  "language_info": {
   "codemirror_mode": {
    "name": "ipython",
    "version": 3
   },
   "file_extension": ".py",
   "mimetype": "text/x-python",
   "name": "python",
   "nbconvert_exporter": "python",
   "pygments_lexer": "ipython3",
   "version": "3.9.12"
  }
 },
 "nbformat": 4,
 "nbformat_minor": 2
}
